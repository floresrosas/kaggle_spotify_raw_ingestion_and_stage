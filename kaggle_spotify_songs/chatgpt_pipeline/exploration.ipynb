{
 "cells": [
  {
   "cell_type": "code",
   "execution_count": 1,
   "metadata": {},
   "outputs": [],
   "source": [
    "from pyspark.sql import SparkSession\n",
    "import pyspark.sql.functions as f"
   ]
  },
  {
   "cell_type": "code",
   "execution_count": 2,
   "metadata": {},
   "outputs": [
    {
     "name": "stdout",
     "output_type": "stream",
     "text": [
      ":: loading settings :: url = jar:file:/Users/jasminewilliams/Library/Python/3.9/lib/python/site-packages/pyspark/jars/ivy-2.5.1.jar!/org/apache/ivy/core/settings/ivysettings.xml\n"
     ]
    },
    {
     "name": "stderr",
     "output_type": "stream",
     "text": [
      "Ivy Default Cache set to: /Users/jasminewilliams/.ivy2/cache\n",
      "The jars for the packages stored in: /Users/jasminewilliams/.ivy2/jars\n",
      "org.postgresql#postgresql added as a dependency\n",
      ":: resolving dependencies :: org.apache.spark#spark-submit-parent-12ccb19f-f71b-458a-a61f-7232c928c360;1.0\n",
      "\tconfs: [default]\n",
      "\tfound org.postgresql#postgresql;42.7.3 in central\n",
      "\tfound org.checkerframework#checker-qual;3.42.0 in central\n",
      ":: resolution report :: resolve 339ms :: artifacts dl 22ms\n",
      "\t:: modules in use:\n",
      "\torg.checkerframework#checker-qual;3.42.0 from central in [default]\n",
      "\torg.postgresql#postgresql;42.7.3 from central in [default]\n",
      "\t---------------------------------------------------------------------\n",
      "\t|                  |            modules            ||   artifacts   |\n",
      "\t|       conf       | number| search|dwnlded|evicted|| number|dwnlded|\n",
      "\t---------------------------------------------------------------------\n",
      "\t|      default     |   2   |   0   |   0   |   0   ||   2   |   0   |\n",
      "\t---------------------------------------------------------------------\n",
      ":: retrieving :: org.apache.spark#spark-submit-parent-12ccb19f-f71b-458a-a61f-7232c928c360\n",
      "\tconfs: [default]\n",
      "\t0 artifacts copied, 2 already retrieved (0kB/11ms)\n",
      "25/06/04 10:46:14 WARN NativeCodeLoader: Unable to load native-hadoop library for your platform... using builtin-java classes where applicable\n",
      "Setting default log level to \"WARN\".\n",
      "To adjust logging level use sc.setLogLevel(newLevel). For SparkR, use setLogLevel(newLevel).\n"
     ]
    }
   ],
   "source": [
    "spark = (\n",
    "    SparkSession.builder\n",
    "        .master(\"local\")\n",
    "        .appName(\"Practice Kaggle Data Read\")\n",
    "        .config(\"spark.jars.packages\", \"org.postgresql:postgresql:42.7.3\")\n",
    "        .getOrCreate()\n",
    ")"
   ]
  },
  {
   "cell_type": "code",
   "execution_count": 6,
   "metadata": {},
   "outputs": [
    {
     "name": "stderr",
     "output_type": "stream",
     "text": [
      "                                                                                \r"
     ]
    },
    {
     "name": "stdout",
     "output_type": "stream",
     "text": [
      "+------------+--------------------+--------------+------------+------+--------+-------+----------------+-----------------+------------------------+--------------+------------------------------+----------------+--------------------------+-------------------+------------------------+----------------+------+------+--------+-------------+----------+------------+------------+--------------------+-----------+------------+--------------+--------+--------------------+--------------------+\n",
      "|Acousticness|               Album|     Artist(s)|Danceability|Energy|Explicit|  Genre|Good for Driving|Good for Exercise|Good for Morning Routine|Good for Party|Good for Relaxation/Meditation|Good for Running|Good for Social Gatherings|Good for Work/Study|Good for Yoga/Stretching|Instrumentalness|   Key|Length|Liveness|Loudness (db)|Popularity|Positiveness|Release Date|       Similar Songs|Speechiness|       Tempo|Time signature| emotion|                song|                text|\n",
      "+------------+--------------------+--------------+------------+------+--------+-------+----------------+-----------------+------------------------+--------------+------------------------------+----------------+--------------------------+-------------------+------------------------+----------------+------+------+--------+-------------+----------+------------+------------+--------------------+-----------+------------+--------------+--------+--------------------+--------------------+\n",
      "|          11|            Thr!!!er|           !!!|          71|    83|      No|hip hop|               0|                0|                       0|             0|                             0|               0|                         0|                  0|                       0|               0| D min| 03:47|      16|  0.785065407|        40|          87|  2013-04-29|[{Corey Smith, NU...|          4|0.4378698225|           4/4| sadness|Even When the Wat...|Friends told her ...|\n",
      "|           0|            Thr!!!er|           !!!|          70|    85|      No|hip hop|               0|                0|                       0|             0|                             0|               0|                         0|                  0|                       0|               0|A# min| 04:03|      32| 0.8050508721|        42|          87|  2013-04-29|[{Hiroyuki Sawano...|          4|0.5088757396|           4/4| sadness|  One Girl / One Boy|Well I heard it, ...|\n",
      "|           0|       Louden Up Now|           !!!|          71|    89|      No|hip hop|               0|                1|                       0|             0|                             0|               0|                         0|                  0|                       0|              20| A Maj| 05:51|      64| 0.7994186047|        29|          63|  2004-06-08|[{Ricky Dillard, ...|          8|0.5325443787|           4/4|     joy|   Pardon My Freedom|Oh my god, did I ...|\n",
      "|          12|               As If|           !!!|          78|    84|      No|hip hop|               0|                1|                       0|             0|                             0|               0|                         0|                  0|                       0|               0| A min| 03:44|      12| 0.8110465116|        24|          97|  2015-10-16|[{Eric Clapton, N...|          4|0.5384615385|           4/4|     joy|                 Ooo|[Verse 1] Remembe...|\n",
      "|           4|               As If|           !!!|          77|    71|      No|hip hop|               0|                1|                       0|             0|                             0|               0|                         0|                  0|                       0|               1| F min| 06:00|      10| 0.8083212209|        30|          70|  2015-10-16|[{Cibo Matto, NUL...|          7|0.5443786982|           4/4|     joy|          Freedom 15|[Verse 1] Calling...|\n",
      "|           0|All U Writers / G...|           !!!|          87|    81|      No|hip hop|               0|                1|                       0|             0|                             0|               0|                         0|                  0|                       0|              47| B min| 05:22|       7| 0.7823401163|        26|          74|  2015-04-27|[{Wish & Fonda Ra...|          4|0.5384615385|           4/4|    love|       All U Writers|All you writers G...|\n",
      "|           0|              Wallop|           !!!|          68|    89|      No|hip hop|               0|                0|                       0|             0|                             0|               0|                         0|                  0|                       0|               0| E min| 03:39|       9| 0.7848837209|        17|          65|  2019-08-30|[{Talking Heads, ...|          8|0.4319526627|           4/4| sadness|        Serbia Drums|[Verse 1] We've k...|\n",
      "|           0|          Myth Takes|           !!!|          77|    88|      No|hip hop|               0|                0|                       0|             0|                             0|               0|                         0|                  0|                       0|               4| G Maj| 05:57|      34| 0.8186773256|        27|          95|  2007-03-05|[{Crystal Waters,...|          5|0.5266272189|           4/4|     joy|    Must Be the Moon|One drink, two dr...|\n",
      "|           6|            Thr!!!er|           !!!|          86|    72|      No|hip hop|               0|                0|                       0|             0|                             0|               0|                         0|                  0|                       0|              24| C Maj| 04:14|      22| 0.7509084302|        33|          58|  2013-04-29|[{Moon Boots,Fior...|         10|0.5266272189|           4/4|surprise|                Slyd|No, that's weird ...|\n",
      "|           5|       Louden Up Now|           !!!|          77|    68|      No|hip hop|               0|                1|                       1|             0|                             0|               0|                         0|                  0|                       0|               0| G Maj| 07:33|      10| 0.7598110465|        21|          67|  2004-06-08|[{Midnight Star, ...|          4| 0.550295858|           4/4| sadness|Hello? Is This Th...|Sometimes you don...|\n",
      "|          13|          Myth Takes|           !!!|          76|    76|      No|hip hop|               0|                0|                       0|             0|                             0|               0|                         0|                  0|                       0|              68| B min| 02:23|      27| 0.7668968023|        34|          88|  2007-03-05|[{Desmond Dekker,...|          3|0.3905325444|           4/4| sadness|          Myth Takes|Only takes a litt...|\n",
      "|           0|          Myth Takes|           !!!|          63|    93|      No|hip hop|               0|                0|                       0|             0|                             0|               0|                         0|                  0|                       0|              10|F# min| 06:02|      12| 0.7901526163|        23|          40|  2007-03-05|[{Celldweller,Cir...|          5|0.5207100592|           4/4|surprise|     Heart of Hearts|Her face, her fac...|\n",
      "|           3|          Myth Takes|           !!!|          69|    80|      No|hip hop|               0|                1|                       0|             0|                             0|               0|                         0|                  0|                       0|               3| D Maj| 05:13|       6| 0.8003270349|        26|          46|  2007-03-05|[{Prince, NULL, N...|          7|0.5621301775|           4/4|     joy|              Yadnus|I'll take anyone ...|\n",
      "|          33|               As If|           !!!|          79|    83|      No|hip hop|               0|                1|                       0|             0|                             0|               0|                         0|                  0|                       0|               4| C min| 04:21|      11| 0.7741642442|        20|          63|  2015-10-16|[{Midnight Star, ...|          9| 0.550295858|           4/4|     joy|       Sick Ass Moon|All night All nig...|\n",
      "|           0|          Myth Takes|           !!!|          50|    99|      No|hip hop|               0|                0|                       0|             0|                             0|               0|                         0|                  0|                       0|               5| A Maj| 03:04|       8| 0.8025072674|        23|          61|  2007-03-05|[{Giant Rooks, NU...|          8|0.5384615385|           4/4|   anger|All My Heroes Are...|Hey ho, there’s a...|\n",
      "|           1|              Wallop|           !!!|          74|    92|      No|hip hop|               0|                1|                       0|             0|                             0|               0|                         0|                  0|                       0|               1|C# Maj| 03:35|      11| 0.7770712209|        18|          77|  2019-08-30|[{Problem,Bad Luc...|         13|0.5384615385|           4/4|   anger|  Couldnt Have Known|[Verse 1] I was l...|\n",
      "|           0|   Shake The Shudder|   !!!,Lea Lea|          86|    76|      No|hip hop|               0|                0|                       0|             0|                             0|               0|                         0|                  0|                       0|              32|C# Maj| 04:41|       6| 0.8005087209|        36|          80|  2017-05-19|[{Wham!, NULL, NU...|          5|0.5266272189|           4/4|    fear|Dancing Is the Be...|Maybe I've been s...|\n",
      "|           5|   Shake The Shudder|   !!!,Lea Lea|          78|    89|      No|hip hop|               0|                1|                       0|             0|                             0|               0|                         0|                  0|                       0|               0| C Maj| 04:30|      13| 0.7863372093|        31|          80|  2017-05-19|[{Jennifer Lopez,...|          7|0.6035502959|           4/4| sadness|                NRGQ|[Intro] Whoo [Ver...|\n",
      "|           0|         STAY ZOOTED|        !Marc¡|          72|    40|     Yes|hip hop|               0|                0|                       0|             0|                             0|               0|                         0|                  0|                       0|               0| C Maj| 02:02|      12| 0.7643531977|         0|          52|        NULL|[{SSG Splurge, NU...|         28|0.8520710059|           4/4|   anger|                Stay|[Chorus: Quavo] W...|\n",
      "|          45|   LYT II SOCIETY...|!YADNUS,Daylyt|          52|    55|     Yes|hip hop|               0|                0|                       0|             0|                             0|               0|                         0|                  0|                       0|               0| A Maj| 01:15|      27| 0.7198401163|         4|          78|  2019-08-13|[{The Future King...|         15| 0.325443787|           4/4|   anger|        First Breath|[Verse: Daylyt] S...|\n",
      "+------------+--------------------+--------------+------------+------+--------+-------+----------------+-----------------+------------------------+--------------+------------------------------+----------------+--------------------------+-------------------+------------------------+----------------+------+------+--------+-------------+----------+------------+------------+--------------------+-----------+------------+--------------+--------+--------------------+--------------------+\n",
      "only showing top 20 rows\n",
      "\n"
     ]
    }
   ],
   "source": [
    "#configs\n",
    "json_location = \"/Users/jasminewilliams/git/chatgpt_exam/chatgpt_pipeline/data/unzip/900k Definitive Spotify Dataset.json\"\n",
    "df = spark.read.json(json_location)\n",
    "df.show()"
   ]
  },
  {
   "cell_type": "code",
   "execution_count": 7,
   "metadata": {},
   "outputs": [
    {
     "name": "stderr",
     "output_type": "stream",
     "text": [
      "[Stage 9:=======================================>                   (4 + 2) / 6]\r"
     ]
    },
    {
     "name": "stdout",
     "output_type": "stream",
     "text": [
      "+------------+----------------+-------------------+------------+------+--------+---------------+----------------+-----------------+------------------------+--------------+------------------------------+----------------+--------------------------+-------------------+------------------------+----------------+------+------+--------+-------------+----------+------------+------------+--------------------+-----------+------------+--------------+--------+------------+--------------------+\n",
      "|Acousticness|           Album|          Artist(s)|Danceability|Energy|Explicit|          Genre|Good for Driving|Good for Exercise|Good for Morning Routine|Good for Party|Good for Relaxation/Meditation|Good for Running|Good for Social Gatherings|Good for Work/Study|Good for Yoga/Stretching|Instrumentalness|   Key|Length|Liveness|Loudness (db)|Popularity|Positiveness|Release Date|       Similar Songs|Speechiness|       Tempo|Time signature| emotion|        song|                text|\n",
      "+------------+----------------+-------------------+------------+------+--------+---------------+----------------+-----------------+------------------------+--------------+------------------------------+----------------+--------------------------+-------------------+------------------------+----------------+------+------+--------+-------------+----------+------------+------------+--------------------+-----------+------------+--------------+--------+------------+--------------------+\n",
      "|          74|   Runaround Sue|               Dion|          51|    29|      No|            pop|               0|                0|                       0|             0|                             0|               0|                         0|                  0|                       0|               0| D Maj| 02:27|      30| 0.6647892442|        26|          55|  1961-08-05|[{Willy Tea Taylo...|          3|0.4911242604|           4/4| sadness|Runaway Girl|I fell in love wi...|\n",
      "|           4|For All The Dogs|Drake,Sexyy Red,SZA|          64|    73|     Yes|        hip hop|               0|                1|                       0|             1|                             0|               1|                         0|                  0|                       0|               0| D Maj| 05:19|      38| 0.8266715116|        91|          14|  2023-10-06|[{Drake,Sexyy Red...|          5|0.6804733728|           4/4|     joy|Runaway Girl|Hey there materia...|\n",
      "|           1|       Diplomacy|     Kakkmaddafakka|          46|    85|      No|rock,indie rock|               0|                0|                       0|             0|                             0|               0|                         0|                  0|                       0|               0| C Maj| 03:02|      21|     0.796875|        41|          59|        NULL|[{The Frights, NU...|          5| 0.798816568|           4/4| sadness|Runaway Girl|[Chorus] Guilty l...|\n",
      "|          24|  Love Lifted Me|       Kenny Rogers|          40|    43|      No|    country,pop|               0|                0|                       0|             0|                             0|               0|                         0|                  0|                       0|               0| D Maj| 02:48|      35| 0.7058502907|        11|          72|        NULL|[{Ella Fitzgerald...|          3|0.6390532544|           4/4|     joy|Runaway Girl|You always were a...|\n",
      "|          63|     LIGHT YEARS|               Kora|          55|    51|      No|rock,reggae,dub|               0|                0|                       0|             0|                             0|               0|                         0|                  0|                       0|               0| D min| 03:19|       8| 0.7252906977|        41|          34|  2012-10-26|[{Kora, NULL, NUL...|          7|0.3313609467|           4/4|     joy|Runaway Girl|Hey there materia...|\n",
      "|          18|       E.G.Y.P.T|    Priddy Ugly,KLY|          52|    32|     Yes|        hip hop|               0|                0|                       0|             0|                             0|               0|                         0|                  0|                       0|               0|F# min| 04:51|      10| 0.7276526163|         5|          19|  2017-11-28|[{B.o.B, NULL, NU...|         16|0.3076923077|           4/4|surprise|RUNAWAY GIRL|Chorus: She’s so ...|\n",
      "+------------+----------------+-------------------+------------+------+--------+---------------+----------------+-----------------+------------------------+--------------+------------------------------+----------------+--------------------------+-------------------+------------------------+----------------+------+------+--------+-------------+----------+------------+------------+--------------------+-----------+------------+--------------+--------+------------+--------------------+\n",
      "\n"
     ]
    },
    {
     "name": "stderr",
     "output_type": "stream",
     "text": [
      "                                                                                \r"
     ]
    }
   ],
   "source": [
    "df.filter(\"song ilike 'Runaway Girl'\").show()"
   ]
  },
  {
   "cell_type": "code",
   "execution_count": 9,
   "metadata": {},
   "outputs": [
    {
     "name": "stdout",
     "output_type": "stream",
     "text": [
      "+------------+--------------------+--------------+------------+------+--------+-------+----------------+-----------------+------------------------+--------------+------------------------------+----------------+--------------------------+-------------------+------------------------+----------------+------+------+--------+------------+----------+------------+------------+--------------------+-----------+------------+--------------+--------+--------------------+--------------------+\n",
      "|acousticness|               album|       artists|danceability|energy|explicit|  genre|good_for_driving|good_for_exercise|good_for_morning_routine|good_for_party|good_for_relaxation_meditation|good_for_running|good_for_social_gatherings|good_for_work_study|good_for_yoga_stretching|instrumentalness|   key|length|liveness| loudness_db|popularity|positiveness|release_date|       similar_songs|speechiness|       tempo|time_signature| emotion|                song|                text|\n",
      "+------------+--------------------+--------------+------------+------+--------+-------+----------------+-----------------+------------------------+--------------+------------------------------+----------------+--------------------------+-------------------+------------------------+----------------+------+------+--------+------------+----------+------------+------------+--------------------+-----------+------------+--------------+--------+--------------------+--------------------+\n",
      "|          11|            Thr!!!er|           !!!|          71|    83|      No|hip hop|               0|                0|                       0|             0|                             0|               0|                         0|                  0|                       0|               0| D min| 03:47|      16| 0.785065407|        40|          87|  2013-04-29|[{Corey Smith, NU...|          4|0.4378698225|           4/4| sadness|Even When the Wat...|Friends told her ...|\n",
      "|           0|            Thr!!!er|           !!!|          70|    85|      No|hip hop|               0|                0|                       0|             0|                             0|               0|                         0|                  0|                       0|               0|A# min| 04:03|      32|0.8050508721|        42|          87|  2013-04-29|[{Hiroyuki Sawano...|          4|0.5088757396|           4/4| sadness|  One Girl / One Boy|Well I heard it, ...|\n",
      "|           0|       Louden Up Now|           !!!|          71|    89|      No|hip hop|               0|                1|                       0|             0|                             0|               0|                         0|                  0|                       0|              20| A Maj| 05:51|      64|0.7994186047|        29|          63|  2004-06-08|[{Ricky Dillard, ...|          8|0.5325443787|           4/4|     joy|   Pardon My Freedom|Oh my god, did I ...|\n",
      "|          12|               As If|           !!!|          78|    84|      No|hip hop|               0|                1|                       0|             0|                             0|               0|                         0|                  0|                       0|               0| A min| 03:44|      12|0.8110465116|        24|          97|  2015-10-16|[{Eric Clapton, N...|          4|0.5384615385|           4/4|     joy|                 Ooo|[Verse 1] Remembe...|\n",
      "|           4|               As If|           !!!|          77|    71|      No|hip hop|               0|                1|                       0|             0|                             0|               0|                         0|                  0|                       0|               1| F min| 06:00|      10|0.8083212209|        30|          70|  2015-10-16|[{Cibo Matto, NUL...|          7|0.5443786982|           4/4|     joy|          Freedom 15|[Verse 1] Calling...|\n",
      "|           0|All U Writers / G...|           !!!|          87|    81|      No|hip hop|               0|                1|                       0|             0|                             0|               0|                         0|                  0|                       0|              47| B min| 05:22|       7|0.7823401163|        26|          74|  2015-04-27|[{Wish & Fonda Ra...|          4|0.5384615385|           4/4|    love|       All U Writers|All you writers G...|\n",
      "|           0|              Wallop|           !!!|          68|    89|      No|hip hop|               0|                0|                       0|             0|                             0|               0|                         0|                  0|                       0|               0| E min| 03:39|       9|0.7848837209|        17|          65|  2019-08-30|[{Talking Heads, ...|          8|0.4319526627|           4/4| sadness|        Serbia Drums|[Verse 1] We've k...|\n",
      "|           0|          Myth Takes|           !!!|          77|    88|      No|hip hop|               0|                0|                       0|             0|                             0|               0|                         0|                  0|                       0|               4| G Maj| 05:57|      34|0.8186773256|        27|          95|  2007-03-05|[{Crystal Waters,...|          5|0.5266272189|           4/4|     joy|    Must Be the Moon|One drink, two dr...|\n",
      "|           6|            Thr!!!er|           !!!|          86|    72|      No|hip hop|               0|                0|                       0|             0|                             0|               0|                         0|                  0|                       0|              24| C Maj| 04:14|      22|0.7509084302|        33|          58|  2013-04-29|[{Moon Boots,Fior...|         10|0.5266272189|           4/4|surprise|                Slyd|No, that's weird ...|\n",
      "|           5|       Louden Up Now|           !!!|          77|    68|      No|hip hop|               0|                1|                       1|             0|                             0|               0|                         0|                  0|                       0|               0| G Maj| 07:33|      10|0.7598110465|        21|          67|  2004-06-08|[{Midnight Star, ...|          4| 0.550295858|           4/4| sadness|Hello? Is This Th...|Sometimes you don...|\n",
      "|          13|          Myth Takes|           !!!|          76|    76|      No|hip hop|               0|                0|                       0|             0|                             0|               0|                         0|                  0|                       0|              68| B min| 02:23|      27|0.7668968023|        34|          88|  2007-03-05|[{Desmond Dekker,...|          3|0.3905325444|           4/4| sadness|          Myth Takes|Only takes a litt...|\n",
      "|           0|          Myth Takes|           !!!|          63|    93|      No|hip hop|               0|                0|                       0|             0|                             0|               0|                         0|                  0|                       0|              10|F# min| 06:02|      12|0.7901526163|        23|          40|  2007-03-05|[{Celldweller,Cir...|          5|0.5207100592|           4/4|surprise|     Heart of Hearts|Her face, her fac...|\n",
      "|           3|          Myth Takes|           !!!|          69|    80|      No|hip hop|               0|                1|                       0|             0|                             0|               0|                         0|                  0|                       0|               3| D Maj| 05:13|       6|0.8003270349|        26|          46|  2007-03-05|[{Prince, NULL, N...|          7|0.5621301775|           4/4|     joy|              Yadnus|I'll take anyone ...|\n",
      "|          33|               As If|           !!!|          79|    83|      No|hip hop|               0|                1|                       0|             0|                             0|               0|                         0|                  0|                       0|               4| C min| 04:21|      11|0.7741642442|        20|          63|  2015-10-16|[{Midnight Star, ...|          9| 0.550295858|           4/4|     joy|       Sick Ass Moon|All night All nig...|\n",
      "|           0|          Myth Takes|           !!!|          50|    99|      No|hip hop|               0|                0|                       0|             0|                             0|               0|                         0|                  0|                       0|               5| A Maj| 03:04|       8|0.8025072674|        23|          61|  2007-03-05|[{Giant Rooks, NU...|          8|0.5384615385|           4/4|   anger|All My Heroes Are...|Hey ho, there’s a...|\n",
      "|           1|              Wallop|           !!!|          74|    92|      No|hip hop|               0|                1|                       0|             0|                             0|               0|                         0|                  0|                       0|               1|C# Maj| 03:35|      11|0.7770712209|        18|          77|  2019-08-30|[{Problem,Bad Luc...|         13|0.5384615385|           4/4|   anger|  Couldnt Have Known|[Verse 1] I was l...|\n",
      "|           0|   Shake The Shudder|   !!!,Lea Lea|          86|    76|      No|hip hop|               0|                0|                       0|             0|                             0|               0|                         0|                  0|                       0|              32|C# Maj| 04:41|       6|0.8005087209|        36|          80|  2017-05-19|[{Wham!, NULL, NU...|          5|0.5266272189|           4/4|    fear|Dancing Is the Be...|Maybe I've been s...|\n",
      "|           5|   Shake The Shudder|   !!!,Lea Lea|          78|    89|      No|hip hop|               0|                1|                       0|             0|                             0|               0|                         0|                  0|                       0|               0| C Maj| 04:30|      13|0.7863372093|        31|          80|  2017-05-19|[{Jennifer Lopez,...|          7|0.6035502959|           4/4| sadness|                NRGQ|[Intro] Whoo [Ver...|\n",
      "|           0|         STAY ZOOTED|        !Marc¡|          72|    40|     Yes|hip hop|               0|                0|                       0|             0|                             0|               0|                         0|                  0|                       0|               0| C Maj| 02:02|      12|0.7643531977|         0|          52|        NULL|[{SSG Splurge, NU...|         28|0.8520710059|           4/4|   anger|                Stay|[Chorus: Quavo] W...|\n",
      "|          45|   LYT II SOCIETY...|!YADNUS,Daylyt|          52|    55|     Yes|hip hop|               0|                0|                       0|             0|                             0|               0|                         0|                  0|                       0|               0| A Maj| 01:15|      27|0.7198401163|         4|          78|  2019-08-13|[{The Future King...|         15| 0.325443787|           4/4|   anger|        First Breath|[Verse: Daylyt] S...|\n",
      "+------------+--------------------+--------------+------------+------+--------+-------+----------------+-----------------+------------------------+--------------+------------------------------+----------------+--------------------------+-------------------+------------------------+----------------+------+------+--------+------------+----------+------------+------------+--------------------+-----------+------------+--------------+--------+--------------------+--------------------+\n",
      "only showing top 20 rows\n",
      "\n"
     ]
    }
   ],
   "source": [
    "#format columns\n",
    "format_v1_cols = [c.lower().replace(\" \",\"_\") for c in df.columns]\n",
    "formatted_cols = [c.replace('(','').replace(')','').replace('/',\"_\") for c in format_v1_cols]\n",
    "df = df.toDF(*formatted_cols)\n",
    "df.show()"
   ]
  },
  {
   "cell_type": "code",
   "execution_count": 5,
   "metadata": {},
   "outputs": [
    {
     "name": "stderr",
     "output_type": "stream",
     "text": [
      "                                                                                \r"
     ]
    },
    {
     "name": "stdout",
     "output_type": "stream",
     "text": [
      "+------------+----------------+-------------------+------------+------+--------+---------------+----------------+-----------------+------------------------+--------------+------------------------------+----------------+--------------------------+-------------------+------------------------+----------------+------+------+--------+-------------+----------+------------+------------+--------------------+-----------+------------+--------------+--------+------------+--------------------+\n",
      "|Acousticness|           Album|          Artist(s)|Danceability|Energy|Explicit|          Genre|Good for Driving|Good for Exercise|Good for Morning Routine|Good for Party|Good for Relaxation/Meditation|Good for Running|Good for Social Gatherings|Good for Work/Study|Good for Yoga/Stretching|Instrumentalness|   Key|Length|Liveness|Loudness (db)|Popularity|Positiveness|Release Date|       Similar Songs|Speechiness|       Tempo|Time signature| emotion|        song|                text|\n",
      "+------------+----------------+-------------------+------------+------+--------+---------------+----------------+-----------------+------------------------+--------------+------------------------------+----------------+--------------------------+-------------------+------------------------+----------------+------+------+--------+-------------+----------+------------+------------+--------------------+-----------+------------+--------------+--------+------------+--------------------+\n",
      "|          74|   Runaround Sue|               Dion|          51|    29|      No|            pop|               0|                0|                       0|             0|                             0|               0|                         0|                  0|                       0|               0| D Maj| 02:27|      30| 0.6647892442|        26|          55|  1961-08-05|[{Willy Tea Taylo...|          3|0.4911242604|           4/4| sadness|Runaway Girl|I fell in love wi...|\n",
      "|           4|For All The Dogs|Drake,Sexyy Red,SZA|          64|    73|     Yes|        hip hop|               0|                1|                       0|             1|                             0|               1|                         0|                  0|                       0|               0| D Maj| 05:19|      38| 0.8266715116|        91|          14|  2023-10-06|[{Drake,Sexyy Red...|          5|0.6804733728|           4/4|     joy|Runaway Girl|Hey there materia...|\n",
      "|           1|       Diplomacy|     Kakkmaddafakka|          46|    85|      No|rock,indie rock|               0|                0|                       0|             0|                             0|               0|                         0|                  0|                       0|               0| C Maj| 03:02|      21|     0.796875|        41|          59|        NULL|[{The Frights, NU...|          5| 0.798816568|           4/4| sadness|Runaway Girl|[Chorus] Guilty l...|\n",
      "|          24|  Love Lifted Me|       Kenny Rogers|          40|    43|      No|    country,pop|               0|                0|                       0|             0|                             0|               0|                         0|                  0|                       0|               0| D Maj| 02:48|      35| 0.7058502907|        11|          72|        NULL|[{Ella Fitzgerald...|          3|0.6390532544|           4/4|     joy|Runaway Girl|You always were a...|\n",
      "|          63|     LIGHT YEARS|               Kora|          55|    51|      No|rock,reggae,dub|               0|                0|                       0|             0|                             0|               0|                         0|                  0|                       0|               0| D min| 03:19|       8| 0.7252906977|        41|          34|  2012-10-26|[{Kora, NULL, NUL...|          7|0.3313609467|           4/4|     joy|Runaway Girl|Hey there materia...|\n",
      "|          18|       E.G.Y.P.T|    Priddy Ugly,KLY|          52|    32|     Yes|        hip hop|               0|                0|                       0|             0|                             0|               0|                         0|                  0|                       0|               0|F# min| 04:51|      10| 0.7276526163|         5|          19|  2017-11-28|[{B.o.B, NULL, NU...|         16|0.3076923077|           4/4|surprise|RUNAWAY GIRL|Chorus: She’s so ...|\n",
      "+------------+----------------+-------------------+------------+------+--------+---------------+----------------+-----------------+------------------------+--------------+------------------------------+----------------+--------------------------+-------------------+------------------------+----------------+------+------+--------+-------------+----------+------------+------------+--------------------+-----------+------------+--------------+--------+------------+--------------------+\n",
      "\n"
     ]
    }
   ],
   "source": [
    "df.filter(\"song ilike 'Runaway Girl'\").show()"
   ]
  },
  {
   "cell_type": "code",
   "execution_count": 10,
   "metadata": {},
   "outputs": [],
   "source": [
    "#data type conversion\n",
    "misconfigured_types = {\n",
    "    \"release_date\": \"timestamp\",\n",
    "    \"popularity\": \"int\",\n",
    "    \"positiveness\": \"int\",\n",
    "    \"energy\": \"int\",\n",
    "    \"danceability\": \"int\",\n",
    "    \"speechiness\": \"int\",\n",
    "    \"liveness\": \"int\",\n",
    "    \"acousticness\": \"int\",\n",
    "    \"instrumentalness\": \"int\"\n",
    "}\n",
    "\n",
    "for column_name, new_type in misconfigured_types.items():\n",
    "    df = df.withColumn(column_name, f.col(column_name).cast(new_type))\n"
   ]
  },
  {
   "cell_type": "code",
   "execution_count": 11,
   "metadata": {},
   "outputs": [],
   "source": [
    "#assumption \n",
    "df = df.filter('release_date is not null')"
   ]
  },
  {
   "cell_type": "code",
   "execution_count": 11,
   "metadata": {},
   "outputs": [],
   "source": [
    "df = df.drop_duplicates()"
   ]
  },
  {
   "cell_type": "markdown",
   "metadata": {},
   "source": [
    "### Data profiling"
   ]
  },
  {
   "cell_type": "code",
   "execution_count": null,
   "metadata": {},
   "outputs": [
    {
     "name": "stderr",
     "output_type": "stream",
     "text": [
      "                                                                                \r"
     ]
    },
    {
     "data": {
      "text/plain": [
       "498052"
      ]
     },
     "execution_count": 6,
     "metadata": {},
     "output_type": "execute_result"
    }
   ],
   "source": [
    "df.count()"
   ]
  },
  {
   "cell_type": "code",
   "execution_count": null,
   "metadata": {},
   "outputs": [
    {
     "name": "stderr",
     "output_type": "stream",
     "text": [
      "[Stage 5:===================================================>     (10 + 1) / 11]\r"
     ]
    },
    {
     "name": "stdout",
     "output_type": "stream",
     "text": [
      "+------------+-----+-------+------------+------+--------+-----+----------------+-----------------+------------------------+--------------+------------------------------+----------------+--------------------------+-------------------+------------------------+----------------+---+------+--------+-----------+----------+------------+------------+-------------+-----------+-----+--------------+-------+----+----+\n",
      "|acousticness|album|artists|danceability|energy|explicit|genre|good_for_driving|good_for_exercise|good_for_morning_routine|good_for_party|good_for_relaxation_meditation|good_for_running|good_for_social_gatherings|good_for_work_study|good_for_yoga_stretching|instrumentalness|key|length|liveness|loudness_db|popularity|positiveness|release_date|similar_songs|speechiness|tempo|time_signature|emotion|song|text|\n",
      "+------------+-----+-------+------------+------+--------+-----+----------------+-----------------+------------------------+--------------+------------------------------+----------------+--------------------------+-------------------+------------------------+----------------+---+------+--------+-----------+----------+------------+------------+-------------+-----------+-----+--------------+-------+----+----+\n",
      "|           0|    0|      0|           0|     0|       0|    0|               0|                0|                       0|             0|                             0|               0|                         0|                  0|                       0|               0|  0|     0|       0|          0|         0|           0|      147683|            0|          0|    0|             8|      0|  14|   0|\n",
      "+------------+-----+-------+------------+------+--------+-----+----------------+-----------------+------------------------+--------------+------------------------------+----------------+--------------------------+-------------------+------------------------+----------------+---+------+--------+-----------+----------+------------+------------+-------------+-----------+-----+--------------+-------+----+----+\n",
      "\n"
     ]
    },
    {
     "name": "stderr",
     "output_type": "stream",
     "text": [
      "                                                                                \r"
     ]
    }
   ],
   "source": [
    "#Release date holding most of the missing values\n",
    "col_missing_count_df = df.select([f.count(f.when(f.isnull(c), c)).alias(c) for c in df.columns])\n",
    "col_missing_count_df.show()\n",
    "#30% of release date values are null\n",
    "#14 cols of the pk are null song"
   ]
  },
  {
   "cell_type": "code",
   "execution_count": null,
   "metadata": {},
   "outputs": [
    {
     "name": "stderr",
     "output_type": "stream",
     "text": [
      "                                                                                \r"
     ]
    },
    {
     "data": {
      "text/plain": [
       "498052"
      ]
     },
     "execution_count": 13,
     "metadata": {},
     "output_type": "execute_result"
    }
   ],
   "source": [
    "df.select(['artists','song']).distinct().count() #498052 - pk matches count"
   ]
  },
  {
   "cell_type": "code",
   "execution_count": null,
   "metadata": {},
   "outputs": [
    {
     "name": "stdout",
     "output_type": "stream",
     "text": [
      "+--------------+--------------------+-------+-------------------+\n",
      "|       artists|                song|  genre|       release_date|\n",
      "+--------------+--------------------+-------+-------------------+\n",
      "|           !!!|Even When the Wat...|hip hop|2013-04-29 00:00:00|\n",
      "|           !!!|  One Girl / One Boy|hip hop|2013-04-29 00:00:00|\n",
      "|           !!!|   Pardon My Freedom|hip hop|2004-06-08 00:00:00|\n",
      "|           !!!|                 Ooo|hip hop|2015-10-16 00:00:00|\n",
      "|           !!!|          Freedom 15|hip hop|2015-10-16 00:00:00|\n",
      "|           !!!|       All U Writers|hip hop|2015-04-27 00:00:00|\n",
      "|           !!!|        Serbia Drums|hip hop|2019-08-30 00:00:00|\n",
      "|           !!!|    Must Be the Moon|hip hop|2007-03-05 00:00:00|\n",
      "|           !!!|                Slyd|hip hop|2013-04-29 00:00:00|\n",
      "|           !!!|Hello? Is This Th...|hip hop|2004-06-08 00:00:00|\n",
      "|           !!!|          Myth Takes|hip hop|2007-03-05 00:00:00|\n",
      "|           !!!|     Heart of Hearts|hip hop|2007-03-05 00:00:00|\n",
      "|           !!!|              Yadnus|hip hop|2007-03-05 00:00:00|\n",
      "|           !!!|       Sick Ass Moon|hip hop|2015-10-16 00:00:00|\n",
      "|           !!!|All My Heroes Are...|hip hop|2007-03-05 00:00:00|\n",
      "|           !!!|  Couldnt Have Known|hip hop|2019-08-30 00:00:00|\n",
      "|   !!!,Lea Lea|Dancing Is the Be...|hip hop|2017-05-19 00:00:00|\n",
      "|   !!!,Lea Lea|                NRGQ|hip hop|2017-05-19 00:00:00|\n",
      "|        !Marc¡|                Stay|hip hop|               NULL|\n",
      "|!YADNUS,Daylyt|        First Breath|hip hop|2019-08-13 00:00:00|\n",
      "+--------------+--------------------+-------+-------------------+\n",
      "only showing top 20 rows\n",
      "\n"
     ]
    }
   ],
   "source": [
    "df.select([\"artists\", \"song\", \"genre\", \"release_date\"]).show()"
   ]
  },
  {
   "cell_type": "code",
   "execution_count": null,
   "metadata": {},
   "outputs": [
    {
     "name": "stderr",
     "output_type": "stream",
     "text": [
      "25/06/02 17:09:03 WARN CacheManager: Asked to cache already cached data.        \n",
      "25/06/02 17:09:31 WARN CacheManager: Asked to cache already cached data.        le: artists]\n",
      "25/06/02 17:09:57 WARN CacheManager: Asked to cache already cached data.        le: song]   \n",
      "Summarize dataset: 100%|██████████| 9/9 [01:35<00:00, 10.57s/it, Completed]               \n",
      "Generate report structure: 100%|██████████| 1/1 [00:00<00:00, 14.29it/s]\n",
      "Render HTML: 100%|██████████| 1/1 [00:00<00:00,  1.73it/s]\n",
      "Export report to file: 100%|██████████| 1/1 [00:00<00:00, 653.11it/s]\n"
     ]
    }
   ],
   "source": [
    "#Cannot use more data not eough space in memory \n",
    "#\n",
    "from ydata_profiling import ProfileReport    \n",
    "a = ProfileReport(df.select([\"artists\", \"song\", \"genre\"]), minimal = True)\n",
    "a.to_file(\"test.html\")"
   ]
  },
  {
   "cell_type": "markdown",
   "metadata": {},
   "source": [
    "### Write"
   ]
  },
  {
   "cell_type": "code",
   "execution_count": null,
   "metadata": {},
   "outputs": [
    {
     "name": "stderr",
     "output_type": "stream",
     "text": [
      "Summarize dataset:   0%|          | 0/5 [00:00<?, ?it/s]25/06/02 17:08:19 WARN CacheManager: Asked to cache already cached data.\n",
      "25/06/02 17:08:20 WARN CacheManager: Asked to cache already cached data.\n",
      "ERROR:root:KeyboardInterrupt while sending command.                (3 + 1) / 11]\n",
      "Traceback (most recent call last):\n",
      "  File \"/Users/jasminewilliams/Library/Python/3.9/lib/python/site-packages/py4j/java_gateway.py\", line 1038, in send_command\n",
      "    response = connection.send_command(command)\n",
      "  File \"/Users/jasminewilliams/Library/Python/3.9/lib/python/site-packages/py4j/clientserver.py\", line 511, in send_command\n",
      "    answer = smart_decode(self.stream.readline()[:-1])\n",
      "  File \"/Library/Developer/CommandLineTools/Library/Frameworks/Python3.framework/Versions/3.9/lib/python3.9/socket.py\", line 704, in readinto\n",
      "    return self._sock.recv_into(b)\n",
      "KeyboardInterrupt\n",
      "Summarize dataset:   0%|          | 0/9 [00:13<?, ?it/s]\n",
      "[Stage 488:====================>                                   (4 + 1) / 11]\r"
     ]
    },
    {
     "ename": "KeyboardInterrupt",
     "evalue": "",
     "output_type": "error",
     "traceback": [
      "\u001b[0;31m---------------------------------------------------------------------------\u001b[0m",
      "\u001b[0;31mKeyboardInterrupt\u001b[0m                         Traceback (most recent call last)",
      "Cell \u001b[0;32mIn[24], line 1\u001b[0m\n\u001b[0;32m----> 1\u001b[0m \u001b[43ma\u001b[49m\u001b[38;5;241;43m.\u001b[39;49m\u001b[43mto_file\u001b[49m\u001b[43m(\u001b[49m\u001b[38;5;124;43m\"\u001b[39;49m\u001b[38;5;124;43mtest.html\u001b[39;49m\u001b[38;5;124;43m\"\u001b[39;49m\u001b[43m)\u001b[49m\n",
      "File \u001b[0;32m~/Library/Python/3.9/lib/python/site-packages/ydata_profiling/profile_report.py:381\u001b[0m, in \u001b[0;36mProfileReport.to_file\u001b[0;34m(self, output_file, silent)\u001b[0m\n\u001b[1;32m    378\u001b[0m         \u001b[38;5;28mself\u001b[39m\u001b[38;5;241m.\u001b[39mconfig\u001b[38;5;241m.\u001b[39mhtml\u001b[38;5;241m.\u001b[39massets_prefix \u001b[38;5;241m=\u001b[39m \u001b[38;5;28mstr\u001b[39m(output_file\u001b[38;5;241m.\u001b[39mstem) \u001b[38;5;241m+\u001b[39m \u001b[38;5;124m\"\u001b[39m\u001b[38;5;124m_assets\u001b[39m\u001b[38;5;124m\"\u001b[39m\n\u001b[1;32m    379\u001b[0m     create_html_assets(\u001b[38;5;28mself\u001b[39m\u001b[38;5;241m.\u001b[39mconfig, output_file)\n\u001b[0;32m--> 381\u001b[0m data \u001b[38;5;241m=\u001b[39m \u001b[38;5;28mself\u001b[39m\u001b[38;5;241m.\u001b[39mto_html()\n\u001b[1;32m    383\u001b[0m \u001b[38;5;28;01mif\u001b[39;00m output_file\u001b[38;5;241m.\u001b[39msuffix \u001b[38;5;241m!=\u001b[39m \u001b[38;5;124m\"\u001b[39m\u001b[38;5;124m.html\u001b[39m\u001b[38;5;124m\"\u001b[39m:\n\u001b[1;32m    384\u001b[0m     suffix \u001b[38;5;241m=\u001b[39m output_file\u001b[38;5;241m.\u001b[39msuffix\n",
      "File \u001b[0;32m~/Library/Python/3.9/lib/python/site-packages/ydata_profiling/profile_report.py:498\u001b[0m, in \u001b[0;36mProfileReport.to_html\u001b[0;34m(self)\u001b[0m\n\u001b[1;32m    490\u001b[0m \u001b[38;5;28;01mdef\u001b[39;00m\u001b[38;5;250m \u001b[39m\u001b[38;5;21mto_html\u001b[39m(\u001b[38;5;28mself\u001b[39m) \u001b[38;5;241m-\u001b[39m\u001b[38;5;241m>\u001b[39m \u001b[38;5;28mstr\u001b[39m:\n\u001b[1;32m    491\u001b[0m \u001b[38;5;250m    \u001b[39m\u001b[38;5;124;03m\"\"\"Generate and return complete template as lengthy string\u001b[39;00m\n\u001b[1;32m    492\u001b[0m \u001b[38;5;124;03m        for using with frameworks.\u001b[39;00m\n\u001b[1;32m    493\u001b[0m \n\u001b[0;32m   (...)\u001b[0m\n\u001b[1;32m    496\u001b[0m \n\u001b[1;32m    497\u001b[0m \u001b[38;5;124;03m    \"\"\"\u001b[39;00m\n\u001b[0;32m--> 498\u001b[0m     \u001b[38;5;28;01mreturn\u001b[39;00m \u001b[38;5;28mself\u001b[39m\u001b[38;5;241m.\u001b[39mhtml\n",
      "File \u001b[0;32m~/Library/Python/3.9/lib/python/site-packages/ydata_profiling/profile_report.py:294\u001b[0m, in \u001b[0;36mProfileReport.html\u001b[0;34m(self)\u001b[0m\n\u001b[1;32m    291\u001b[0m \u001b[38;5;129m@property\u001b[39m\n\u001b[1;32m    292\u001b[0m \u001b[38;5;28;01mdef\u001b[39;00m\u001b[38;5;250m \u001b[39m\u001b[38;5;21mhtml\u001b[39m(\u001b[38;5;28mself\u001b[39m) \u001b[38;5;241m-\u001b[39m\u001b[38;5;241m>\u001b[39m \u001b[38;5;28mstr\u001b[39m:\n\u001b[1;32m    293\u001b[0m     \u001b[38;5;28;01mif\u001b[39;00m \u001b[38;5;28mself\u001b[39m\u001b[38;5;241m.\u001b[39m_html \u001b[38;5;129;01mis\u001b[39;00m \u001b[38;5;28;01mNone\u001b[39;00m:\n\u001b[0;32m--> 294\u001b[0m         \u001b[38;5;28mself\u001b[39m\u001b[38;5;241m.\u001b[39m_html \u001b[38;5;241m=\u001b[39m \u001b[38;5;28mself\u001b[39m\u001b[38;5;241m.\u001b[39m_render_html()\n\u001b[1;32m    295\u001b[0m     \u001b[38;5;28;01mreturn\u001b[39;00m \u001b[38;5;28mself\u001b[39m\u001b[38;5;241m.\u001b[39m_html\n",
      "File \u001b[0;32m~/Library/Python/3.9/lib/python/site-packages/ydata_profiling/profile_report.py:411\u001b[0m, in \u001b[0;36mProfileReport._render_html\u001b[0;34m(self)\u001b[0m\n\u001b[1;32m    408\u001b[0m \u001b[38;5;28;01mdef\u001b[39;00m\u001b[38;5;250m \u001b[39m\u001b[38;5;21m_render_html\u001b[39m(\u001b[38;5;28mself\u001b[39m) \u001b[38;5;241m-\u001b[39m\u001b[38;5;241m>\u001b[39m \u001b[38;5;28mstr\u001b[39m:\n\u001b[1;32m    409\u001b[0m     \u001b[38;5;28;01mfrom\u001b[39;00m\u001b[38;5;250m \u001b[39m\u001b[38;5;21;01mydata_profiling\u001b[39;00m\u001b[38;5;21;01m.\u001b[39;00m\u001b[38;5;21;01mreport\u001b[39;00m\u001b[38;5;21;01m.\u001b[39;00m\u001b[38;5;21;01mpresentation\u001b[39;00m\u001b[38;5;21;01m.\u001b[39;00m\u001b[38;5;21;01mflavours\u001b[39;00m\u001b[38;5;250m \u001b[39m\u001b[38;5;28;01mimport\u001b[39;00m HTMLReport\n\u001b[0;32m--> 411\u001b[0m     report \u001b[38;5;241m=\u001b[39m \u001b[38;5;28mself\u001b[39m\u001b[38;5;241m.\u001b[39mreport\n\u001b[1;32m    413\u001b[0m     \u001b[38;5;28;01mwith\u001b[39;00m tqdm(\n\u001b[1;32m    414\u001b[0m         total\u001b[38;5;241m=\u001b[39m\u001b[38;5;241m1\u001b[39m, desc\u001b[38;5;241m=\u001b[39m\u001b[38;5;124m\"\u001b[39m\u001b[38;5;124mRender HTML\u001b[39m\u001b[38;5;124m\"\u001b[39m, disable\u001b[38;5;241m=\u001b[39m\u001b[38;5;129;01mnot\u001b[39;00m \u001b[38;5;28mself\u001b[39m\u001b[38;5;241m.\u001b[39mconfig\u001b[38;5;241m.\u001b[39mprogress_bar\n\u001b[1;32m    415\u001b[0m     ) \u001b[38;5;28;01mas\u001b[39;00m pbar:\n\u001b[1;32m    416\u001b[0m         html \u001b[38;5;241m=\u001b[39m HTMLReport(copy\u001b[38;5;241m.\u001b[39mdeepcopy(report))\u001b[38;5;241m.\u001b[39mrender(\n\u001b[1;32m    417\u001b[0m             nav\u001b[38;5;241m=\u001b[39m\u001b[38;5;28mself\u001b[39m\u001b[38;5;241m.\u001b[39mconfig\u001b[38;5;241m.\u001b[39mhtml\u001b[38;5;241m.\u001b[39mnavbar_show,\n\u001b[1;32m    418\u001b[0m             offline\u001b[38;5;241m=\u001b[39m\u001b[38;5;28mself\u001b[39m\u001b[38;5;241m.\u001b[39mconfig\u001b[38;5;241m.\u001b[39mhtml\u001b[38;5;241m.\u001b[39muse_local_assets,\n\u001b[0;32m   (...)\u001b[0m\n\u001b[1;32m    426\u001b[0m             version\u001b[38;5;241m=\u001b[39m\u001b[38;5;28mself\u001b[39m\u001b[38;5;241m.\u001b[39mdescription_set\u001b[38;5;241m.\u001b[39mpackage[\u001b[38;5;124m\"\u001b[39m\u001b[38;5;124mydata_profiling_version\u001b[39m\u001b[38;5;124m\"\u001b[39m],\n\u001b[1;32m    427\u001b[0m         )\n",
      "File \u001b[0;32m~/Library/Python/3.9/lib/python/site-packages/ydata_profiling/profile_report.py:288\u001b[0m, in \u001b[0;36mProfileReport.report\u001b[0;34m(self)\u001b[0m\n\u001b[1;32m    285\u001b[0m \u001b[38;5;129m@property\u001b[39m\n\u001b[1;32m    286\u001b[0m \u001b[38;5;28;01mdef\u001b[39;00m\u001b[38;5;250m \u001b[39m\u001b[38;5;21mreport\u001b[39m(\u001b[38;5;28mself\u001b[39m) \u001b[38;5;241m-\u001b[39m\u001b[38;5;241m>\u001b[39m Root:\n\u001b[1;32m    287\u001b[0m     \u001b[38;5;28;01mif\u001b[39;00m \u001b[38;5;28mself\u001b[39m\u001b[38;5;241m.\u001b[39m_report \u001b[38;5;129;01mis\u001b[39;00m \u001b[38;5;28;01mNone\u001b[39;00m:\n\u001b[0;32m--> 288\u001b[0m         \u001b[38;5;28mself\u001b[39m\u001b[38;5;241m.\u001b[39m_report \u001b[38;5;241m=\u001b[39m get_report_structure(\u001b[38;5;28mself\u001b[39m\u001b[38;5;241m.\u001b[39mconfig, \u001b[38;5;28mself\u001b[39m\u001b[38;5;241m.\u001b[39mdescription_set)\n\u001b[1;32m    289\u001b[0m     \u001b[38;5;28;01mreturn\u001b[39;00m \u001b[38;5;28mself\u001b[39m\u001b[38;5;241m.\u001b[39m_report\n",
      "File \u001b[0;32m~/Library/Python/3.9/lib/python/site-packages/ydata_profiling/profile_report.py:270\u001b[0m, in \u001b[0;36mProfileReport.description_set\u001b[0;34m(self)\u001b[0m\n\u001b[1;32m    267\u001b[0m \u001b[38;5;129m@property\u001b[39m\n\u001b[1;32m    268\u001b[0m \u001b[38;5;28;01mdef\u001b[39;00m\u001b[38;5;250m \u001b[39m\u001b[38;5;21mdescription_set\u001b[39m(\u001b[38;5;28mself\u001b[39m) \u001b[38;5;241m-\u001b[39m\u001b[38;5;241m>\u001b[39m BaseDescription:\n\u001b[1;32m    269\u001b[0m     \u001b[38;5;28;01mif\u001b[39;00m \u001b[38;5;28mself\u001b[39m\u001b[38;5;241m.\u001b[39m_description_set \u001b[38;5;129;01mis\u001b[39;00m \u001b[38;5;28;01mNone\u001b[39;00m:\n\u001b[0;32m--> 270\u001b[0m         \u001b[38;5;28mself\u001b[39m\u001b[38;5;241m.\u001b[39m_description_set \u001b[38;5;241m=\u001b[39m describe_df(\n\u001b[1;32m    271\u001b[0m             \u001b[38;5;28mself\u001b[39m\u001b[38;5;241m.\u001b[39mconfig,\n\u001b[1;32m    272\u001b[0m             \u001b[38;5;28mself\u001b[39m\u001b[38;5;241m.\u001b[39mdf,\n\u001b[1;32m    273\u001b[0m             \u001b[38;5;28mself\u001b[39m\u001b[38;5;241m.\u001b[39msummarizer,\n\u001b[1;32m    274\u001b[0m             \u001b[38;5;28mself\u001b[39m\u001b[38;5;241m.\u001b[39mtypeset,\n\u001b[1;32m    275\u001b[0m             \u001b[38;5;28mself\u001b[39m\u001b[38;5;241m.\u001b[39m_sample,\n\u001b[1;32m    276\u001b[0m         )\n\u001b[1;32m    277\u001b[0m     \u001b[38;5;28;01mreturn\u001b[39;00m \u001b[38;5;28mself\u001b[39m\u001b[38;5;241m.\u001b[39m_description_set\n",
      "File \u001b[0;32m~/Library/Python/3.9/lib/python/site-packages/ydata_profiling/model/describe.py:89\u001b[0m, in \u001b[0;36mdescribe\u001b[0;34m(config, df, summarizer, typeset, sample)\u001b[0m\n\u001b[1;32m     87\u001b[0m \u001b[38;5;66;03m# Variable-specific\u001b[39;00m\n\u001b[1;32m     88\u001b[0m pbar\u001b[38;5;241m.\u001b[39mtotal \u001b[38;5;241m+\u001b[39m\u001b[38;5;241m=\u001b[39m \u001b[38;5;28mlen\u001b[39m(df\u001b[38;5;241m.\u001b[39mcolumns)\n\u001b[0;32m---> 89\u001b[0m series_description \u001b[38;5;241m=\u001b[39m \u001b[43mget_series_descriptions\u001b[49m\u001b[43m(\u001b[49m\n\u001b[1;32m     90\u001b[0m \u001b[43m    \u001b[49m\u001b[43mconfig\u001b[49m\u001b[43m,\u001b[49m\u001b[43m \u001b[49m\u001b[43mdf\u001b[49m\u001b[43m,\u001b[49m\u001b[43m \u001b[49m\u001b[43msummarizer\u001b[49m\u001b[43m,\u001b[49m\u001b[43m \u001b[49m\u001b[43mtypeset\u001b[49m\u001b[43m,\u001b[49m\u001b[43m \u001b[49m\u001b[43mpbar\u001b[49m\n\u001b[1;32m     91\u001b[0m \u001b[43m\u001b[49m\u001b[43m)\u001b[49m\n\u001b[1;32m     93\u001b[0m pbar\u001b[38;5;241m.\u001b[39mset_postfix_str(\u001b[38;5;124m\"\u001b[39m\u001b[38;5;124mGet variable types\u001b[39m\u001b[38;5;124m\"\u001b[39m)\n\u001b[1;32m     94\u001b[0m pbar\u001b[38;5;241m.\u001b[39mtotal \u001b[38;5;241m+\u001b[39m\u001b[38;5;241m=\u001b[39m \u001b[38;5;241m1\u001b[39m\n",
      "File \u001b[0;32m~/Library/Python/3.9/lib/python/site-packages/ydata_profiling/model/summary.py:64\u001b[0m, in \u001b[0;36mget_series_descriptions\u001b[0;34m(config, df, summarizer, typeset, pbar)\u001b[0m\n\u001b[1;32m     62\u001b[0m     \u001b[38;5;28;01mreturn\u001b[39;00m pandas_get_series_descriptions(config, df, summarizer, typeset, pbar)\n\u001b[1;32m     63\u001b[0m \u001b[38;5;28;01melif\u001b[39;00m \u001b[38;5;28misinstance\u001b[39m(df, sparkDataFrame):  \u001b[38;5;66;03m# type: ignore\u001b[39;00m\n\u001b[0;32m---> 64\u001b[0m     \u001b[38;5;28;01mreturn\u001b[39;00m \u001b[43mget_series_descriptions_spark\u001b[49m\u001b[43m(\u001b[49m\u001b[43mconfig\u001b[49m\u001b[43m,\u001b[49m\u001b[43m \u001b[49m\u001b[43mdf\u001b[49m\u001b[43m,\u001b[49m\u001b[43m \u001b[49m\u001b[43msummarizer\u001b[49m\u001b[43m,\u001b[49m\u001b[43m \u001b[49m\u001b[43mtypeset\u001b[49m\u001b[43m,\u001b[49m\u001b[43m \u001b[49m\u001b[43mpbar\u001b[49m\u001b[43m)\u001b[49m\n\u001b[1;32m     65\u001b[0m \u001b[38;5;28;01melse\u001b[39;00m:\n\u001b[1;32m     66\u001b[0m     \u001b[38;5;28;01mraise\u001b[39;00m \u001b[38;5;167;01mTypeError\u001b[39;00m(\u001b[38;5;124mf\u001b[39m\u001b[38;5;124m\"\u001b[39m\u001b[38;5;124mUnsupported dataframe type: \u001b[39m\u001b[38;5;132;01m{\u001b[39;00m\u001b[38;5;28mtype\u001b[39m(df)\u001b[38;5;132;01m}\u001b[39;00m\u001b[38;5;124m\"\u001b[39m)\n",
      "File \u001b[0;32m~/Library/Python/3.9/lib/python/site-packages/ydata_profiling/model/spark/summary_spark.py:89\u001b[0m, in \u001b[0;36mget_series_descriptions_spark\u001b[0;34m(config, df, summarizer, typeset, pbar)\u001b[0m\n\u001b[1;32m     84\u001b[0m     description\u001b[38;5;241m.\u001b[39mpop(\n\u001b[1;32m     85\u001b[0m         \u001b[38;5;124m\"\u001b[39m\u001b[38;5;124mvalue_counts\u001b[39m\u001b[38;5;124m\"\u001b[39m, \u001b[38;5;28;01mNone\u001b[39;00m\n\u001b[1;32m     86\u001b[0m     )  \u001b[38;5;66;03m# Use `.pop()` with default to avoid KeyError\u001b[39;00m\n\u001b[1;32m     87\u001b[0m     \u001b[38;5;28;01mreturn\u001b[39;00m name, description\n\u001b[0;32m---> 89\u001b[0m series_description \u001b[38;5;241m=\u001b[39m {col: describe_column(col)[\u001b[38;5;241m1\u001b[39m] \u001b[38;5;28;01mfor\u001b[39;00m col \u001b[38;5;129;01min\u001b[39;00m df\u001b[38;5;241m.\u001b[39mcolumns}\n\u001b[1;32m     91\u001b[0m \u001b[38;5;66;03m# Sort and return descriptions\u001b[39;00m\n\u001b[1;32m     92\u001b[0m \u001b[38;5;28;01mreturn\u001b[39;00m sort_column_names(series_description, config\u001b[38;5;241m.\u001b[39msort)\n",
      "File \u001b[0;32m~/Library/Python/3.9/lib/python/site-packages/ydata_profiling/model/spark/summary_spark.py:89\u001b[0m, in \u001b[0;36m<dictcomp>\u001b[0;34m(.0)\u001b[0m\n\u001b[1;32m     84\u001b[0m     description\u001b[38;5;241m.\u001b[39mpop(\n\u001b[1;32m     85\u001b[0m         \u001b[38;5;124m\"\u001b[39m\u001b[38;5;124mvalue_counts\u001b[39m\u001b[38;5;124m\"\u001b[39m, \u001b[38;5;28;01mNone\u001b[39;00m\n\u001b[1;32m     86\u001b[0m     )  \u001b[38;5;66;03m# Use `.pop()` with default to avoid KeyError\u001b[39;00m\n\u001b[1;32m     87\u001b[0m     \u001b[38;5;28;01mreturn\u001b[39;00m name, description\n\u001b[0;32m---> 89\u001b[0m series_description \u001b[38;5;241m=\u001b[39m {col: \u001b[43mdescribe_column\u001b[49m\u001b[43m(\u001b[49m\u001b[43mcol\u001b[49m\u001b[43m)\u001b[49m[\u001b[38;5;241m1\u001b[39m] \u001b[38;5;28;01mfor\u001b[39;00m col \u001b[38;5;129;01min\u001b[39;00m df\u001b[38;5;241m.\u001b[39mcolumns}\n\u001b[1;32m     91\u001b[0m \u001b[38;5;66;03m# Sort and return descriptions\u001b[39;00m\n\u001b[1;32m     92\u001b[0m \u001b[38;5;28;01mreturn\u001b[39;00m sort_column_names(series_description, config\u001b[38;5;241m.\u001b[39msort)\n",
      "File \u001b[0;32m~/Library/Python/3.9/lib/python/site-packages/ydata_profiling/model/spark/summary_spark.py:79\u001b[0m, in \u001b[0;36mget_series_descriptions_spark.<locals>.describe_column\u001b[0;34m(name)\u001b[0m\n\u001b[1;32m     77\u001b[0m \u001b[38;5;28;01mdef\u001b[39;00m\u001b[38;5;250m \u001b[39m\u001b[38;5;21mdescribe_column\u001b[39m(name: \u001b[38;5;28mstr\u001b[39m) \u001b[38;5;241m-\u001b[39m\u001b[38;5;241m>\u001b[39m Tuple[\u001b[38;5;28mstr\u001b[39m, \u001b[38;5;28mdict\u001b[39m]:\n\u001b[1;32m     78\u001b[0m \u001b[38;5;250m    \u001b[39m\u001b[38;5;124;03m\"\"\"Process a single Spark column using Spark's execution model.\"\"\"\u001b[39;00m\n\u001b[0;32m---> 79\u001b[0m     description \u001b[38;5;241m=\u001b[39m \u001b[43mspark_describe_1d\u001b[49m\u001b[43m(\u001b[49m\u001b[43mconfig\u001b[49m\u001b[43m,\u001b[49m\u001b[43m \u001b[49m\u001b[43mdf\u001b[49m\u001b[38;5;241;43m.\u001b[39;49m\u001b[43mselect\u001b[49m\u001b[43m(\u001b[49m\u001b[43mname\u001b[49m\u001b[43m)\u001b[49m\u001b[43m,\u001b[49m\u001b[43m \u001b[49m\u001b[43msummarizer\u001b[49m\u001b[43m,\u001b[49m\u001b[43m \u001b[49m\u001b[43mtypeset\u001b[49m\u001b[43m)\u001b[49m\n\u001b[1;32m     80\u001b[0m     pbar\u001b[38;5;241m.\u001b[39mset_postfix_str(\u001b[38;5;124mf\u001b[39m\u001b[38;5;124m\"\u001b[39m\u001b[38;5;124mDescribe variable: \u001b[39m\u001b[38;5;132;01m{\u001b[39;00mname\u001b[38;5;132;01m}\u001b[39;00m\u001b[38;5;124m\"\u001b[39m)\n\u001b[1;32m     81\u001b[0m     pbar\u001b[38;5;241m.\u001b[39mupdate()\n",
      "File \u001b[0;32m~/Library/Python/3.9/lib/python/site-packages/ydata_profiling/model/spark/summary_spark.py:61\u001b[0m, in \u001b[0;36mspark_describe_1d\u001b[0;34m(config, series, summarizer, typeset)\u001b[0m\n\u001b[1;32m     47\u001b[0m         dtype \u001b[38;5;241m=\u001b[39m series\u001b[38;5;241m.\u001b[39mschema[\u001b[38;5;241m0\u001b[39m]\u001b[38;5;241m.\u001b[39mdataType\u001b[38;5;241m.\u001b[39msimpleString()\n\u001b[1;32m     49\u001b[0m     vtype \u001b[38;5;241m=\u001b[39m {\n\u001b[1;32m     50\u001b[0m         \u001b[38;5;124m\"\u001b[39m\u001b[38;5;124mfloat\u001b[39m\u001b[38;5;124m\"\u001b[39m: \u001b[38;5;124m\"\u001b[39m\u001b[38;5;124mNumeric\u001b[39m\u001b[38;5;124m\"\u001b[39m,\n\u001b[1;32m     51\u001b[0m         \u001b[38;5;124m\"\u001b[39m\u001b[38;5;124mint\u001b[39m\u001b[38;5;124m\"\u001b[39m: \u001b[38;5;124m\"\u001b[39m\u001b[38;5;124mNumeric\u001b[39m\u001b[38;5;124m\"\u001b[39m,\n\u001b[0;32m   (...)\u001b[0m\n\u001b[1;32m     58\u001b[0m         \u001b[38;5;124m\"\u001b[39m\u001b[38;5;124mtimestamp\u001b[39m\u001b[38;5;124m\"\u001b[39m: \u001b[38;5;124m\"\u001b[39m\u001b[38;5;124mDateTime\u001b[39m\u001b[38;5;124m\"\u001b[39m,\n\u001b[1;32m     59\u001b[0m     }[dtype]\n\u001b[0;32m---> 61\u001b[0m \u001b[38;5;28;01mreturn\u001b[39;00m \u001b[43msummarizer\u001b[49m\u001b[38;5;241;43m.\u001b[39;49m\u001b[43msummarize\u001b[49m\u001b[43m(\u001b[49m\u001b[43mconfig\u001b[49m\u001b[43m,\u001b[49m\u001b[43m \u001b[49m\u001b[43mseries\u001b[49m\u001b[43m,\u001b[49m\u001b[43m \u001b[49m\u001b[43mdtype\u001b[49m\u001b[38;5;241;43m=\u001b[39;49m\u001b[43mvtype\u001b[49m\u001b[43m)\u001b[49m\n",
      "File \u001b[0;32m~/Library/Python/3.9/lib/python/site-packages/ydata_profiling/model/summarizer.py:50\u001b[0m, in \u001b[0;36mBaseSummarizer.summarize\u001b[0;34m(self, config, series, dtype)\u001b[0m\n\u001b[1;32m     46\u001b[0m \u001b[38;5;28;01mdef\u001b[39;00m\u001b[38;5;250m \u001b[39m\u001b[38;5;21msummarize\u001b[39m(\n\u001b[1;32m     47\u001b[0m     \u001b[38;5;28mself\u001b[39m, config: Settings, series: pd\u001b[38;5;241m.\u001b[39mSeries, dtype: Type[VisionsBaseType]\n\u001b[1;32m     48\u001b[0m ) \u001b[38;5;241m-\u001b[39m\u001b[38;5;241m>\u001b[39m \u001b[38;5;28mdict\u001b[39m:\n\u001b[1;32m     49\u001b[0m \u001b[38;5;250m    \u001b[39m\u001b[38;5;124;03m\"\"\"Generates the summary for a given series\"\"\"\u001b[39;00m\n\u001b[0;32m---> 50\u001b[0m     \u001b[38;5;28;01mreturn\u001b[39;00m \u001b[38;5;28;43mself\u001b[39;49m\u001b[38;5;241;43m.\u001b[39;49m\u001b[43mhandle\u001b[49m\u001b[43m(\u001b[49m\u001b[38;5;28;43mstr\u001b[39;49m\u001b[43m(\u001b[49m\u001b[43mdtype\u001b[49m\u001b[43m)\u001b[49m\u001b[43m,\u001b[49m\u001b[43m \u001b[49m\u001b[43mconfig\u001b[49m\u001b[43m,\u001b[49m\u001b[43m \u001b[49m\u001b[43mseries\u001b[49m\u001b[43m,\u001b[49m\u001b[43m \u001b[49m\u001b[43m{\u001b[49m\u001b[38;5;124;43m\"\u001b[39;49m\u001b[38;5;124;43mtype\u001b[39;49m\u001b[38;5;124;43m\"\u001b[39;49m\u001b[43m:\u001b[49m\u001b[43m \u001b[49m\u001b[38;5;28;43mstr\u001b[39;49m\u001b[43m(\u001b[49m\u001b[43mdtype\u001b[49m\u001b[43m)\u001b[49m\u001b[43m}\u001b[49m\u001b[43m)\u001b[49m\n",
      "File \u001b[0;32m~/Library/Python/3.9/lib/python/site-packages/ydata_profiling/model/handler.py:59\u001b[0m, in \u001b[0;36mHandler.handle\u001b[0;34m(self, dtype, *args, **kwargs)\u001b[0m\n\u001b[1;32m     57\u001b[0m funcs \u001b[38;5;241m=\u001b[39m \u001b[38;5;28mself\u001b[39m\u001b[38;5;241m.\u001b[39mmapping\u001b[38;5;241m.\u001b[39mget(dtype, [])\n\u001b[1;32m     58\u001b[0m op \u001b[38;5;241m=\u001b[39m compose(funcs)\n\u001b[0;32m---> 59\u001b[0m summary \u001b[38;5;241m=\u001b[39m \u001b[43mop\u001b[49m\u001b[43m(\u001b[49m\u001b[38;5;241;43m*\u001b[39;49m\u001b[43margs\u001b[49m\u001b[43m)\u001b[49m[\u001b[38;5;241m-\u001b[39m\u001b[38;5;241m1\u001b[39m]\n\u001b[1;32m     60\u001b[0m \u001b[38;5;28;01mreturn\u001b[39;00m summary\n",
      "File \u001b[0;32m~/Library/Python/3.9/lib/python/site-packages/ydata_profiling/model/handler.py:21\u001b[0m, in \u001b[0;36mcompose.<locals>.composed_function\u001b[0;34m(*args)\u001b[0m\n\u001b[1;32m     19\u001b[0m result \u001b[38;5;241m=\u001b[39m args  \u001b[38;5;66;03m# Start with the input arguments\u001b[39;00m\n\u001b[1;32m     20\u001b[0m \u001b[38;5;28;01mfor\u001b[39;00m func \u001b[38;5;129;01min\u001b[39;00m functions:\n\u001b[0;32m---> 21\u001b[0m     result \u001b[38;5;241m=\u001b[39m \u001b[43mfunc\u001b[49m\u001b[43m(\u001b[49m\u001b[38;5;241;43m*\u001b[39;49m\u001b[43mresult\u001b[49m\u001b[43m)\u001b[49m \u001b[38;5;28;01mif\u001b[39;00m \u001b[38;5;28misinstance\u001b[39m(result, \u001b[38;5;28mtuple\u001b[39m) \u001b[38;5;28;01melse\u001b[39;00m func(result)\n\u001b[1;32m     22\u001b[0m \u001b[38;5;28;01mreturn\u001b[39;00m result\n",
      "File \u001b[0;32m~/Library/Python/3.9/lib/python/site-packages/ydata_profiling/model/spark/describe_generic_spark.py:20\u001b[0m, in \u001b[0;36mdescribe_generic_spark\u001b[0;34m(config, df, summary)\u001b[0m\n\u001b[1;32m     11\u001b[0m \u001b[38;5;250m\u001b[39m\u001b[38;5;124;03m\"\"\"Describe generic series.\u001b[39;00m\n\u001b[1;32m     12\u001b[0m \u001b[38;5;124;03mArgs:\u001b[39;00m\n\u001b[1;32m     13\u001b[0m \u001b[38;5;124;03m    series: The Series to describe.\u001b[39;00m\n\u001b[0;32m   (...)\u001b[0m\n\u001b[1;32m     16\u001b[0m \u001b[38;5;124;03m    A dict containing calculated series description values.\u001b[39;00m\n\u001b[1;32m     17\u001b[0m \u001b[38;5;124;03m\"\"\"\u001b[39;00m\n\u001b[1;32m     19\u001b[0m \u001b[38;5;66;03m# number of observations in the Series\u001b[39;00m\n\u001b[0;32m---> 20\u001b[0m length \u001b[38;5;241m=\u001b[39m \u001b[43mdf\u001b[49m\u001b[38;5;241;43m.\u001b[39;49m\u001b[43mcount\u001b[49m\u001b[43m(\u001b[49m\u001b[43m)\u001b[49m\n\u001b[1;32m     22\u001b[0m summary[\u001b[38;5;124m\"\u001b[39m\u001b[38;5;124mn\u001b[39m\u001b[38;5;124m\"\u001b[39m] \u001b[38;5;241m=\u001b[39m length\n\u001b[1;32m     23\u001b[0m summary[\u001b[38;5;124m\"\u001b[39m\u001b[38;5;124mp_missing\u001b[39m\u001b[38;5;124m\"\u001b[39m] \u001b[38;5;241m=\u001b[39m summary[\u001b[38;5;124m\"\u001b[39m\u001b[38;5;124mn_missing\u001b[39m\u001b[38;5;124m\"\u001b[39m] \u001b[38;5;241m/\u001b[39m length\n",
      "File \u001b[0;32m~/Library/Python/3.9/lib/python/site-packages/pyspark/sql/dataframe.py:1240\u001b[0m, in \u001b[0;36mDataFrame.count\u001b[0;34m(self)\u001b[0m\n\u001b[1;32m   1217\u001b[0m \u001b[38;5;28;01mdef\u001b[39;00m\u001b[38;5;250m \u001b[39m\u001b[38;5;21mcount\u001b[39m(\u001b[38;5;28mself\u001b[39m) \u001b[38;5;241m-\u001b[39m\u001b[38;5;241m>\u001b[39m \u001b[38;5;28mint\u001b[39m:\n\u001b[1;32m   1218\u001b[0m \u001b[38;5;250m    \u001b[39m\u001b[38;5;124;03m\"\"\"Returns the number of rows in this :class:`DataFrame`.\u001b[39;00m\n\u001b[1;32m   1219\u001b[0m \n\u001b[1;32m   1220\u001b[0m \u001b[38;5;124;03m    .. versionadded:: 1.3.0\u001b[39;00m\n\u001b[0;32m   (...)\u001b[0m\n\u001b[1;32m   1238\u001b[0m \u001b[38;5;124;03m    3\u001b[39;00m\n\u001b[1;32m   1239\u001b[0m \u001b[38;5;124;03m    \"\"\"\u001b[39;00m\n\u001b[0;32m-> 1240\u001b[0m     \u001b[38;5;28;01mreturn\u001b[39;00m \u001b[38;5;28mint\u001b[39m(\u001b[38;5;28;43mself\u001b[39;49m\u001b[38;5;241;43m.\u001b[39;49m\u001b[43m_jdf\u001b[49m\u001b[38;5;241;43m.\u001b[39;49m\u001b[43mcount\u001b[49m\u001b[43m(\u001b[49m\u001b[43m)\u001b[49m)\n",
      "File \u001b[0;32m~/Library/Python/3.9/lib/python/site-packages/py4j/java_gateway.py:1321\u001b[0m, in \u001b[0;36mJavaMember.__call__\u001b[0;34m(self, *args)\u001b[0m\n\u001b[1;32m   1314\u001b[0m args_command, temp_args \u001b[38;5;241m=\u001b[39m \u001b[38;5;28mself\u001b[39m\u001b[38;5;241m.\u001b[39m_build_args(\u001b[38;5;241m*\u001b[39margs)\n\u001b[1;32m   1316\u001b[0m command \u001b[38;5;241m=\u001b[39m proto\u001b[38;5;241m.\u001b[39mCALL_COMMAND_NAME \u001b[38;5;241m+\u001b[39m\\\n\u001b[1;32m   1317\u001b[0m     \u001b[38;5;28mself\u001b[39m\u001b[38;5;241m.\u001b[39mcommand_header \u001b[38;5;241m+\u001b[39m\\\n\u001b[1;32m   1318\u001b[0m     args_command \u001b[38;5;241m+\u001b[39m\\\n\u001b[1;32m   1319\u001b[0m     proto\u001b[38;5;241m.\u001b[39mEND_COMMAND_PART\n\u001b[0;32m-> 1321\u001b[0m answer \u001b[38;5;241m=\u001b[39m \u001b[38;5;28;43mself\u001b[39;49m\u001b[38;5;241;43m.\u001b[39;49m\u001b[43mgateway_client\u001b[49m\u001b[38;5;241;43m.\u001b[39;49m\u001b[43msend_command\u001b[49m\u001b[43m(\u001b[49m\u001b[43mcommand\u001b[49m\u001b[43m)\u001b[49m\n\u001b[1;32m   1322\u001b[0m return_value \u001b[38;5;241m=\u001b[39m get_return_value(\n\u001b[1;32m   1323\u001b[0m     answer, \u001b[38;5;28mself\u001b[39m\u001b[38;5;241m.\u001b[39mgateway_client, \u001b[38;5;28mself\u001b[39m\u001b[38;5;241m.\u001b[39mtarget_id, \u001b[38;5;28mself\u001b[39m\u001b[38;5;241m.\u001b[39mname)\n\u001b[1;32m   1325\u001b[0m \u001b[38;5;28;01mfor\u001b[39;00m temp_arg \u001b[38;5;129;01min\u001b[39;00m temp_args:\n",
      "File \u001b[0;32m~/Library/Python/3.9/lib/python/site-packages/py4j/java_gateway.py:1038\u001b[0m, in \u001b[0;36mGatewayClient.send_command\u001b[0;34m(self, command, retry, binary)\u001b[0m\n\u001b[1;32m   1036\u001b[0m connection \u001b[38;5;241m=\u001b[39m \u001b[38;5;28mself\u001b[39m\u001b[38;5;241m.\u001b[39m_get_connection()\n\u001b[1;32m   1037\u001b[0m \u001b[38;5;28;01mtry\u001b[39;00m:\n\u001b[0;32m-> 1038\u001b[0m     response \u001b[38;5;241m=\u001b[39m \u001b[43mconnection\u001b[49m\u001b[38;5;241;43m.\u001b[39;49m\u001b[43msend_command\u001b[49m\u001b[43m(\u001b[49m\u001b[43mcommand\u001b[49m\u001b[43m)\u001b[49m\n\u001b[1;32m   1039\u001b[0m     \u001b[38;5;28;01mif\u001b[39;00m binary:\n\u001b[1;32m   1040\u001b[0m         \u001b[38;5;28;01mreturn\u001b[39;00m response, \u001b[38;5;28mself\u001b[39m\u001b[38;5;241m.\u001b[39m_create_connection_guard(connection)\n",
      "File \u001b[0;32m~/Library/Python/3.9/lib/python/site-packages/py4j/clientserver.py:511\u001b[0m, in \u001b[0;36mClientServerConnection.send_command\u001b[0;34m(self, command)\u001b[0m\n\u001b[1;32m    509\u001b[0m \u001b[38;5;28;01mtry\u001b[39;00m:\n\u001b[1;32m    510\u001b[0m     \u001b[38;5;28;01mwhile\u001b[39;00m \u001b[38;5;28;01mTrue\u001b[39;00m:\n\u001b[0;32m--> 511\u001b[0m         answer \u001b[38;5;241m=\u001b[39m smart_decode(\u001b[38;5;28;43mself\u001b[39;49m\u001b[38;5;241;43m.\u001b[39;49m\u001b[43mstream\u001b[49m\u001b[38;5;241;43m.\u001b[39;49m\u001b[43mreadline\u001b[49m\u001b[43m(\u001b[49m\u001b[43m)\u001b[49m[:\u001b[38;5;241m-\u001b[39m\u001b[38;5;241m1\u001b[39m])\n\u001b[1;32m    512\u001b[0m         logger\u001b[38;5;241m.\u001b[39mdebug(\u001b[38;5;124m\"\u001b[39m\u001b[38;5;124mAnswer received: \u001b[39m\u001b[38;5;132;01m{0}\u001b[39;00m\u001b[38;5;124m\"\u001b[39m\u001b[38;5;241m.\u001b[39mformat(answer))\n\u001b[1;32m    513\u001b[0m         \u001b[38;5;66;03m# Happens when a the other end is dead. There might be an empty\u001b[39;00m\n\u001b[1;32m    514\u001b[0m         \u001b[38;5;66;03m# answer before the socket raises an error.\u001b[39;00m\n",
      "File \u001b[0;32m/Library/Developer/CommandLineTools/Library/Frameworks/Python3.framework/Versions/3.9/lib/python3.9/socket.py:704\u001b[0m, in \u001b[0;36mSocketIO.readinto\u001b[0;34m(self, b)\u001b[0m\n\u001b[1;32m    702\u001b[0m \u001b[38;5;28;01mwhile\u001b[39;00m \u001b[38;5;28;01mTrue\u001b[39;00m:\n\u001b[1;32m    703\u001b[0m     \u001b[38;5;28;01mtry\u001b[39;00m:\n\u001b[0;32m--> 704\u001b[0m         \u001b[38;5;28;01mreturn\u001b[39;00m \u001b[38;5;28;43mself\u001b[39;49m\u001b[38;5;241;43m.\u001b[39;49m\u001b[43m_sock\u001b[49m\u001b[38;5;241;43m.\u001b[39;49m\u001b[43mrecv_into\u001b[49m\u001b[43m(\u001b[49m\u001b[43mb\u001b[49m\u001b[43m)\u001b[49m\n\u001b[1;32m    705\u001b[0m     \u001b[38;5;28;01mexcept\u001b[39;00m timeout:\n\u001b[1;32m    706\u001b[0m         \u001b[38;5;28mself\u001b[39m\u001b[38;5;241m.\u001b[39m_timeout_occurred \u001b[38;5;241m=\u001b[39m \u001b[38;5;28;01mTrue\u001b[39;00m\n",
      "\u001b[0;31mKeyboardInterrupt\u001b[0m: "
     ]
    },
    {
     "name": "stderr",
     "output_type": "stream",
     "text": [
      "                                                                                \r"
     ]
    }
   ],
   "source": [
    "a.to_file(\"test.html\")"
   ]
  },
  {
   "cell_type": "code",
   "execution_count": 21,
   "metadata": {},
   "outputs": [
    {
     "name": "stderr",
     "output_type": "stream",
     "text": [
      "[Stage 22:==================================================>       (7 + 1) / 8]\r"
     ]
    },
    {
     "name": "stdout",
     "output_type": "stream",
     "text": [
      "+------------+--------------------+--------------------+------------+------+--------+--------------------+----------------+-----------------+------------------------+--------------+------------------------------+----------------+--------------------------+-------------------+------------------------+----------------+------+------+--------+------------+----------+------------+-------------------+--------------------+-----------+------------+--------------+-------+--------------------+--------------------+\n",
      "|acousticness|               album|             artists|danceability|energy|explicit|               genre|good_for_driving|good_for_exercise|good_for_morning_routine|good_for_party|good_for_relaxation_meditation|good_for_running|good_for_social_gatherings|good_for_work_study|good_for_yoga_stretching|instrumentalness|   key|length|liveness| loudness_db|popularity|positiveness|       release_date|       similar_songs|speechiness|       tempo|time_signature|emotion|                song|                text|\n",
      "+------------+--------------------+--------------------+------------+------+--------+--------------------+----------------+-----------------+------------------------+--------------+------------------------------+----------------+--------------------------+-------------------+------------------------+----------------+------+------+--------+------------+----------+------------+-------------------+--------------------+-----------+------------+--------------+-------+--------------------+--------------------+\n",
      "|          14|Down Inna babylon...|            Annunati|          66|    60|      No|             hip hop|               0|                0|                       0|             0|                             0|               0|                         0|                  0|                       0|               0|A# Maj| 02:36|      32|0.6865915698|         0|          82|2023-01-17 00:00:00|[{Todrick Hall,Tr...|         28|0.8224852071|           4/4|    joy|     Down in Babylon|[Verse 1] Where a...|\n",
      "|           1|        Luka Troncic|            BabyTron|          80|    53|     Yes|        hip hop,trap|               1|                0|                       1|             0|                             0|               0|                         0|                  0|                       0|               0| F min| 02:29|      46|0.6933139535|        39|          38|2021-06-06 00:00:00|[{BabyTron, NULL,...|         29|0.4201183432|           4/4|  anger|           This That|[Intro] Vador [Ch...|\n",
      "|           0|Waiting for Morni...|   Being As An Ocean|          40|    69|      No|       post-hardcore|               0|                0|                       0|             0|                             0|               0|                         0|                  0|                       0|               0| A min| 04:48|      11|0.7823401163|        34|          22|2017-09-08 00:00:00|[{Being As An Oce...|          6|0.7041420118|           4/4|sadness|Waiting for Morni...|[Verse 1] I still...|\n",
      "|          40|             88GLAM2|              88GLAM|          74|    53|     Yes|             hip hop|               0|                0|                       0|             0|                             0|               0|                         0|                  0|                       0|               0| B min| 02:42|      32|0.7607194767|        36|          23|2018-11-16 00:00:00|[{Nasty C, NULL, ...|          5|0.2721893491|           4/4|    joy|            Kawasaki|[Pre-Chorus: 88 C...|\n",
      "|           1|Get Rich Or Die T...|             50 Cent|          59|    83|     Yes| rap,hip-hop,hip hop|               0|                1|                       0|             1|                             0|               1|                         0|                  0|                       0|               0| B Maj| 04:16|      14|0.8561046512|        77|          39|2003-02-06 00:00:00|[{50 Cent, NULL, ...|         38| 0.775147929|           4/4|sadness|       Suicide Watch|[Dialing] [Phone ...|\n",
      "|          14|  I'll Explain Later|      Adrian Stresow|          87|    46|     Yes|             hip hop|               0|                0|                       0|             0|                             0|               0|                         0|                  0|                       0|               2| D Maj| 03:12|      10|0.8368459302|        20|          58|2018-03-30 00:00:00|[{J Molley, NULL,...|          5|0.5680473373|           4/4|    joy|            Vertical|[Verse 1] Ayy Lef...|\n",
      "|           1|The Victorian Wal...|     Ashbury Heights|          59|    97|      No|             hip hop|               0|                1|                       0|             0|                             0|               0|                         0|                  0|                       0|               0|G# Maj| 04:42|      20|0.8144985465|        24|          84|2018-08-24 00:00:00|[{Goodbye June, N...|          6| 0.573964497|           4/4|sadness|             Science|I know why I'm fe...|\n",
      "|           0|            Just One|Better Than A Tho...|          28|    92|     Yes|             hip hop|               0|                0|                       0|             0|                             0|               0|                         0|                  0|                       0|               0| D Maj| 02:29|      11|0.8284883721|        19|          46|1997-07-14 00:00:00|[{Expire, NULL, N...|          9|0.3964497041|           4/4|    joy|          Live Today|We've made our ef...|\n",
      "|           9|              Oxnard|Anderson .Paak,Q-Tip|          73|    52|     Yes|             hip hop|               1|                0|                       0|             0|                             0|               0|                         0|                  0|                       0|               0| D Maj| 05:34|       9|0.7672601744|        43|          48|2018-11-16 00:00:00|[{Grand Puba, NUL...|         40|0.3372781065|           4/4|sadness|              Cheers|[Intro: Anderson ...|\n",
      "|           2|        Leave It All|        ARMNHMR,Luma|          33|    82|      No|             hip hop|               0|                0|                       0|             0|                             0|               0|                         0|                  0|                       0|               0| G min| 05:20|      11|0.8799055233|        27|           9|2018-08-10 00:00:00|[{Deaf Havana, NU...|          6|0.2603550296|           4/4|sadness|        Leave It All|[Verse 1] I wrest...|\n",
      "|          45|      Queef - Single|           Awkwafina|          79|    60|     Yes|     hip-hop,hip hop|               0|                0|                       0|             0|                             0|               0|                         0|                  0|                       0|               1|G# min| 03:14|      12|0.8584665698|        10|          41|2013-12-04 00:00:00|[{Bawal Clan,Ankh...|         21| 0.349112426|           4/4|    joy|               Queef|[Hook] Queefing l...|\n",
      "|           6|      Just A Thought|                 360|          54|    60|     Yes|             hip hop|               0|                0|                       0|             0|                             0|               0|                         0|                  0|                       0|               0|C# Maj| 05:25|      16|0.7996002907|        20|          16|2017-07-04 00:00:00|[{G-Eazy,Ant Clem...|         33|0.3727810651|           4/4|  anger|      Just A Thought|[Intro] Just a th...|\n",
      "|          29|        i'm okay now|               badly|          65|    55|      No|indie pop,indie r...|               1|                0|                       1|             0|                             0|               0|                         0|                  0|                       0|               0| D Maj| 03:02|      33|0.7756177326|        37|          50|2020-09-11 00:00:00|[{Cover Drive, NU...|          5|0.4142011834|           4/4|    joy|         Im okay now|You had your hand...|\n",
      "|          10|KILL YOURSELF Par...|         $uicideboy$|          82|    87|     Yes|hip hop,trap,clou...|               0|                0|                       0|             0|                             0|               0|                         0|                  0|                       0|               0|A# min| 02:38|       9| 0.788880814|        58|          64|2018-09-14 00:00:00|[{Julia Michaels,...|          6|0.4082840237|           4/4|sadness|            Im Done.|[Intro: Kingpin S...|\n",
      "|           0|        Barely Legal|      Ayesha Erotica|          83|    42|     Yes|      electronic,pop|               0|                0|                       0|             0|                             0|               0|                         0|                  0|                       0|               0| D Maj| 03:35|       4|0.6518895349|        36|          74|2016-06-16 00:00:00|[{G-Eazy,Lil Wayn...|         41|0.6213017751|           4/4|   love|       Back to Crack|[Intro] Going bac...|\n",
      "|           6|              Let Go|       Avril Lavigne|          58|    78|      No|rock,pop,alternat...|               0|                0|                       0|             0|                             0|               0|                         0|                  0|                       0|               0| F Maj| 04:04|      30|0.8023255814|        82|          43|2002-06-04 00:00:00|[{Avril Lavigne, ...|          5|0.2781065089|           4/4|    joy|     Damn Cold Night|I'm Standing on a...|\n",
      "|          26|   Every Pretty Girl|Andrew Barth Feldman|          51|    42|      No|             hip hop|               1|                0|                       0|             0|                             0|               0|                         0|                  0|                       0|               0| D Maj| 03:50|      12|0.6742369186|        21|          20|2021-07-08 00:00:00|[{Lincoln Brewste...|          4|0.5147928994|           4/4|    joy|   Every Pretty Girl|[Verse 1] I live ...|\n",
      "|           6|Straight Up (Rema...|           Badfinger|          44|    50|      No|            pop rock|               0|                0|                       0|             0|                             0|               0|                         0|                  0|                       0|               1| G Maj| 04:27|      40|0.7823401163|        24|          22|1971-12-13 00:00:00|[{Hillsong UNITED...|          2|0.2426035503|           4/4|    joy|         Take It All|[Verse 1] In a wa...|\n",
      "|           2|See You On The Ot...|               Bernz|          75|    54|     Yes|             hip hop|               1|                0|                       0|             0|                             0|               0|                         0|                  0|                       0|               0| B min| 03:00|      11|0.7801598837|        11|          68|2016-07-08 00:00:00|[{TLC,Snoop Dogg,...|         10|0.2958579882|           4/4|sadness| Came to Say Goodbye|[Intro] Yeah, uh ...|\n",
      "|          14|              Alesta|Alexandra Stan,Mo...|          81|    83|      No|             hip hop|               0|                0|                       0|             0|                             0|               0|                         0|                  0|                       0|               0|D# min| 03:10|       6|0.8317587209|        22|          80|2016-03-16 00:00:00|[{Vybz Kartel, NU...|          9|0.5029585799|           4/4|   love|              Balans|[Intro: Mohombi] ...|\n",
      "+------------+--------------------+--------------------+------------+------+--------+--------------------+----------------+-----------------+------------------------+--------------+------------------------------+----------------+--------------------------+-------------------+------------------------+----------------+------+------+--------+------------+----------+------------+-------------------+--------------------+-----------+------------+--------------+-------+--------------------+--------------------+\n",
      "only showing top 20 rows\n",
      "\n"
     ]
    },
    {
     "name": "stderr",
     "output_type": "stream",
     "text": [
      "                                                                                \r"
     ]
    }
   ],
   "source": [
    "partition_cols = [\"artists\", \"song\", \"genre\", \"release_date\"]\n",
    "df = df.repartition(*partition_cols)\n",
    "df.show()"
   ]
  },
  {
   "cell_type": "code",
   "execution_count": 22,
   "metadata": {},
   "outputs": [
    {
     "name": "stderr",
     "output_type": "stream",
     "text": [
      "                                                                                \r"
     ]
    }
   ],
   "source": [
    "df.write.parquet('chatgpt_pipeline/data/parquet/')"
   ]
  },
  {
   "cell_type": "code",
   "execution_count": 4,
   "metadata": {},
   "outputs": [
    {
     "name": "stdout",
     "output_type": "stream",
     "text": [
      "openjdk version \"1.8.0_452\"\n",
      "OpenJDK Runtime Environment (Temurin)(build 1.8.0_452-b09)\n",
      "OpenJDK 64-Bit Server VM (Temurin)(build 25.452-b09, mixed mode)\n"
     ]
    }
   ],
   "source": [
    "!java -version"
   ]
  },
  {
   "cell_type": "code",
   "execution_count": 5,
   "metadata": {
    "vscode": {
     "languageId": "powershell"
    }
   },
   "outputs": [
    {
     "name": "stdout",
     "output_type": "stream",
     "text": [
      "Welcome to\n",
      "      ____              __\n",
      "     / __/__  ___ _____/ /__\n",
      "    _\\ \\/ _ \\/ _ `/ __/  '_/\n",
      "   /___/ .__/\\_,_/_/ /_/\\_\\   version 3.5.5\n",
      "      /_/\n",
      "                        \n",
      "Using Scala version 2.12.18, OpenJDK 64-Bit Server VM, 1.8.0_452\n",
      "Branch HEAD\n",
      "Compiled by user ubuntu on 2025-02-23T20:30:46Z\n",
      "Revision 7c29c664cdc9321205a98a14858aaf8daaa19db2\n",
      "Url https://github.com/apache/spark\n",
      "Type --help for more information.\n"
     ]
    }
   ],
   "source": [
    "!pyspark --version"
   ]
  },
  {
   "cell_type": "code",
   "execution_count": 3,
   "metadata": {
    "vscode": {
     "languageId": "powershell"
    }
   },
   "outputs": [
    {
     "name": "stderr",
     "output_type": "stream",
     "text": [
      "25/06/03 16:33:45 WARN SparkStringUtils: Truncated the string representation of a plan since it was too large. This behavior can be adjusted by setting 'spark.sql.debug.maxToStringFields'.\n",
      "                                                                                \r"
     ]
    },
    {
     "name": "stdout",
     "output_type": "stream",
     "text": [
      "+------------+--------------------+--------------------+------------+------+--------+--------------------+----------------+-----------------+------------------------+--------------+------------------------------+----------------+--------------------------+-------------------+------------------------+----------------+------+------+--------+------------+----------+------------+-------------------+--------------------+-----------+------------+--------------+-------+--------------------+--------------------+\n",
      "|acousticness|               album|             artists|danceability|energy|explicit|               genre|good_for_driving|good_for_exercise|good_for_morning_routine|good_for_party|good_for_relaxation_meditation|good_for_running|good_for_social_gatherings|good_for_work_study|good_for_yoga_stretching|instrumentalness|   key|length|liveness| loudness_db|popularity|positiveness|       release_date|       similar_songs|speechiness|       tempo|time_signature|emotion|                song|                text|\n",
      "+------------+--------------------+--------------------+------------+------+--------+--------------------+----------------+-----------------+------------------------+--------------+------------------------------+----------------+--------------------------+-------------------+------------------------+----------------+------+------+--------+------------+----------+------------+-------------------+--------------------+-----------+------------+--------------+-------+--------------------+--------------------+\n",
      "|          44|The Haunted Man (...|      Bat For Lashes|          45|    50|      No|alternative rock,...|               0|                0|                       0|             0|                             0|               0|                         0|                  0|                       0|               0| A min| 03:42|      29|0.7400072674|        20|          16|2013-04-09 00:00:00|[{Naughty Boy,Eme...|          4|0.5266272189|           4/4|   fear|       Winter Fields|[Verse 1] Hurtlin...|\n",
      "|          10|          Here Again|         A Will Away|          45|    71|      No|             hip hop|               0|                0|                       0|             0|                             0|               0|                         0|                  0|                       0|               0|D# Maj| 03:11|      19|0.7827034884|         8|          27|2017-03-17 00:00:00|[{Future, NULL, N...|          3|0.6804733728|           4/4|    joy|             Gravity|[Verse 1] Gravity...|\n",
      "|           0|The Things We Thi...|Balance And Compo...|          39|    98|      No|alternative rock,...|               0|                0|                       0|             0|                             0|               0|                         0|                  0|                       0|               0| E Maj| 03:50|      12|0.8284883721|         8|          22|2024-07-29 00:00:00|[{Wintersleep, NU...|          8| 0.674556213|           4/4|sadness|            Keepsake|Don't fall And I'...|\n",
      "|           1|                Rise|      A Skylit Drive|          52|    87|      No|       post-hardcore|               0|                0|                       0|             0|                             0|               0|                         0|                  0|                       0|               0| D Maj| 04:16|      45| 0.863372093|         9|          28|2013-09-27 00:00:00|[{Citizen, NULL, ...|          3|0.4911242604|           4/4|sadness|           Just Stay|I won't see you f...|\n",
      "|          14|            Insomnii|        Andy Timofte|          57|    35|      No|                jazz|               0|                0|                       0|             0|                             0|               0|                         0|                  0|                       0|               0|C# min| 01:03|      21|0.7429142442|        32|          29|2024-06-09 00:00:00|[{Andy Timofte, N...|          4|0.4970414201|           4/4|sadness|Weighed Down with...|[Chorus] Nothing ...|\n",
      "|          35|Unfuckwitable (De...|        Babyface Ray|          64|    59|     Yes|     soul,rnb,gospel|               0|                0|                       0|             0|                             0|               0|                         0|                  0|                       0|               0|C# Maj| 02:19|      21|0.7959665698|        36|          55|2021-05-14 00:00:00|[{YNW Melly, NULL...|         18|0.7396449704|           4/4|  anger|               Tahoe|[Intro] (Hoodrich...|\n",
      "|           1|                Post|               Björk|          46|    69|      No|trip-hop,rock,ele...|               0|                0|                       0|             0|                             0|               0|                         0|                  0|                       0|               0|F# Maj| 03:54|      27|0.7418241279|        56|          49|1995-06-13 00:00:00|[{Björk, NULL, NU...|          3|0.8343195266|           4/4|sadness|           Courtship|[Verse 1] He turn...|\n",
      "|           0|   Night In The Ruts|           Aerosmith|          49|    93|      No|rock,heavy metal,...|               0|                0|                       0|             0|                             0|               0|                         0|                  0|                       0|              17| E Maj| 04:26|      24|0.8186773256|        27|          43|1979-11-16 00:00:00|[{The Menzingers,...|          4|0.6390532544|           4/4|  anger|         No Surprize|1971, we all hear...|\n",
      "|           0|The Curse (Deluxe...|              Atreyu|          37|    91|     Yes|metalcore,screamo...|               0|                0|                       0|             0|                             0|               0|                         0|                  0|                       0|               0|G# Maj| 03:26|      37|0.8330305233|        42|          60|2004-06-28 00:00:00|[{Youth Brigade, ...|          6|0.6272189349|           4/4|   fear|You Give Love a B...|[Intro] Shot thro...|\n",
      "|          27|  Gone - The Remixes|Ben Fankhauser,Mi...|          48|    55|      No|             hip hop|               0|                0|                       0|             0|                             0|               0|                         0|                  0|                       0|               0|D# Maj| 03:26|      10|0.7096656977|        20|          37|2015-02-24 00:00:00|[{MS MR, NULL, NU...|          9|0.8106508876|           4/4|sadness|                Gone|This is your song...|\n",
      "|          83|   Demonz N My Bleep|       A-Wax,Analise|          76|    43|     Yes|             hip hop|               0|                0|                       0|             0|                             0|               0|                         0|                  1|                       0|               0| E min| 03:27|       7|0.6924055233|        32|          41|2019-12-10 00:00:00|[{DDG, NULL, NULL...|         12|0.3846153846|           4/4|sadness|           Come Down|[Verse 1: Analise...|\n",
      "|          20|         - TRAGEDY +|                $NOT|          72|    54|     Yes|             hip hop|               0|                0|                       0|             0|                             0|               0|                         0|                  0|                       0|               0|C# Maj| 02:00|       6|0.7816133721|        55|          59|2020-03-06 00:00:00|[{9lokknine, NULL...|         46|0.8816568047|           4/4|  anger|         ROADRUNNER |[Intro: Mississip...|\n",
      "|          54|            Homesick|                AVEC|          67|    43|      No|             hip hop|               0|                0|                       0|             0|                             0|               0|                         0|                  1|                       0|               0| A min| 02:56|       9| 0.746002907|        26|          34|2020-03-27 00:00:00|[{Frank Iero, NUL...|          5|0.4082840237|           4/4|sadness|          Dance Solo|[Verse 1] Wheneve...|\n",
      "|           3|Lay You Down - A ...|  Ameritz - Tributes|          84|    30|      No|soundtrack,classi...|               0|                0|                       0|             0|                             0|               0|                         0|                  0|                       0|               0|A# min| 04:07|       9|0.6998546512|         2|          86|2013-04-11 00:00:00|[{Ol Skool, NULL,...|          5|0.3727810651|           4/4|    joy|       You Remind Me|Yo, I ain't seein...|\n",
      "|           7|I Wish I Was Step...|         beabadoobee|          44|    78|     Yes| rock,pop,indie rock|               0|                0|                       0|             0|                             0|               0|                         0|                  0|                       0|               0| E Maj| 03:51|       9|0.8377543605|        47|          64|2019-09-19 00:00:00|[{beabadoobee, NU...|          4|0.2958579882|           4/4|    joy|              Lariat|[Verse 1] Only a ...|\n",
      "|           2|                 112|                 112|          62|    53|      No|    soul,hip hop,pop|               1|                0|                       1|             0|                             0|               0|                         0|                  0|                       0|               0| D Maj| 04:53|      13| 0.753815407|        21|          16|1996-08-27 00:00:00|[{American Footba...|          3|0.5029585799|           4/4|sadness|   Throw It All Away|[Verse 1: Slim & ...|\n",
      "|           2|Magnolia (Music f...|          Aimee Mann|          51|    62|      No|alternative rock,...|               0|                1|                       0|             0|                             0|               0|                         0|                  0|                       0|               7| D Maj| 05:36|      18|0.7587209302|        31|          54|1999-12-07 00:00:00|[{Delta Sleep, NU...|          3|0.6153846154|           4/4|    joy|Gods Man - Drake ...|[Intro] Yeah, the...|\n",
      "|           8|This is not an Al...|        Azizi Gibson|          69|    64|     Yes|             hip hop|               0|                0|                       1|             0|                             0|               0|                         0|                  0|                       0|               1| C min| 03:16|      12|0.7532703488|        33|          17|2021-11-19 00:00:00|[{Chief Keef, NUL...|          4|0.5266272189|           4/4|  anger| Hate Me If You Must|[Intro] I'm one d...|\n",
      "|          11|       ##RETRIBUTION|             Autumn!|          45|    44|      No|    progressive rock|               0|                0|                       0|             0|                             0|               0|                         0|                  0|                       0|               0| F min| 01:40|      14|0.6733284884|        22|          42|2019-03-05 00:00:00|[{Vybz Kartel, NU...|         27|0.4023668639|           5/4|    joy|           4 My Sons|[Intro] Yah, whoa...|\n",
      "|           1|    Shotter's Nation|        Babyshambles|          48|    80|      No|indie rock,indie,...|               0|                0|                       0|             0|                             0|               0|                         0|                  0|                       0|               0| C Maj| 04:03|      10|0.8570130814|        20|          48|2007-09-28 00:00:00|[{Wolf Rider, NUL...|          3|0.4792899408|           4/4|    joy|      Deft Left Hand|You seem the type...|\n",
      "+------------+--------------------+--------------------+------------+------+--------+--------------------+----------------+-----------------+------------------------+--------------+------------------------------+----------------+--------------------------+-------------------+------------------------+----------------+------+------+--------+------------+----------+------------+-------------------+--------------------+-----------+------------+--------------+-------+--------------------+--------------------+\n",
      "only showing top 20 rows\n",
      "\n"
     ]
    }
   ],
   "source": [
    "odbc_df = spark.read.parquet(\"../data/parquet\")\n",
    "odbc_df.show()"
   ]
  },
  {
   "cell_type": "code",
   "execution_count": 9,
   "metadata": {
    "vscode": {
     "languageId": "powershell"
    }
   },
   "outputs": [],
   "source": [
    "odbc_df = odbc_df.drop(\"similar_songs\")"
   ]
  },
  {
   "cell_type": "code",
   "execution_count": 10,
   "metadata": {
    "vscode": {
     "languageId": "powershell"
    }
   },
   "outputs": [
    {
     "name": "stderr",
     "output_type": "stream",
     "text": [
      "                                                                                \r"
     ]
    }
   ],
   "source": [
    "odbc_df.write \\\n",
    ".format(\"jdbc\") \\\n",
    ".option(\"url\", \"jdbc:postgresql://localhost:5432/testdb\") \\\n",
    ".option(\"dbtable\", \"songs\") \\\n",
    ".option(\"user\", \"jw9582\") \\\n",
    ".option(\"password\", \"pass\") \\\n",
    ".option(\"driver\", \"org.postgresql.Driver\") \\\n",
    ".mode(\"overwrite\") \\\n",
    ".save()"
   ]
  },
  {
   "cell_type": "code",
   "execution_count": null,
   "metadata": {
    "vscode": {
     "languageId": "powershell"
    }
   },
   "outputs": [],
   "source": [
    "Py4JJavaError: An error occurred while calling o83.save.\n",
    ": java.lang.ClassNotFoundException: org.postgresql.Driver"
   ]
  }
 ],
 "metadata": {
  "kernelspec": {
   "display_name": "Python 3",
   "language": "python",
   "name": "python3"
  },
  "language_info": {
   "codemirror_mode": {
    "name": "ipython",
    "version": 3
   },
   "file_extension": ".py",
   "mimetype": "text/x-python",
   "name": "python",
   "nbconvert_exporter": "python",
   "pygments_lexer": "ipython3",
   "version": "3.9.6"
  }
 },
 "nbformat": 4,
 "nbformat_minor": 2
}
